{
 "cells": [
  {
   "cell_type": "code",
   "execution_count": 1,
   "metadata": {},
   "outputs": [],
   "source": [
    "import pandas as pd\n",
    "import numpy as np"
   ]
  },
  {
   "cell_type": "markdown",
   "metadata": {},
   "source": [
    "# Datasets"
   ]
  },
  {
   "cell_type": "code",
   "execution_count": 2,
   "metadata": {},
   "outputs": [],
   "source": [
    "# Kiva data\n",
    "kiva_loans_o = pd.read_csv('kiva-data/kiva_loans.csv')\n",
    "kiva_mpi_region_locations_o = pd.read_csv('kiva-data/kiva_mpi_region_locations.csv')\n",
    "loan_theme_ids_o = pd.read_csv('kiva-data/loan_theme_ids.csv')\n",
    "loan_themes_by_region_o = pd.read_csv('kiva-data/loan_themes_by_region.csv')\n",
    "\n",
    "# OPHI MPI data\n",
    "MPI_national_o = pd.read_csv('mpi-data/MPI_national.csv')\n",
    "MPI_subnational_o = pd.read_csv('mpi-data/MPI_subnational.csv')"
   ]
  },
  {
   "cell_type": "markdown",
   "metadata": {},
   "source": [
    "# Dataset Cleaning Process"
   ]
  },
  {
   "cell_type": "markdown",
   "metadata": {},
   "source": [
    "## `kiva_loans`"
   ]
  },
  {
   "cell_type": "code",
   "execution_count": 3,
   "metadata": {},
   "outputs": [
    {
     "name": "stdout",
     "output_type": "stream",
     "text": [
      "<class 'pandas.core.frame.DataFrame'>\n",
      "RangeIndex: 671205 entries, 0 to 671204\n",
      "Data columns (total 20 columns):\n",
      "id                    671205 non-null int64\n",
      "funded_amount         671205 non-null float64\n",
      "loan_amount           671205 non-null float64\n",
      "activity              671205 non-null object\n",
      "sector                671205 non-null object\n",
      "use                   666973 non-null object\n",
      "country_code          671197 non-null object\n",
      "country               671205 non-null object\n",
      "region                614405 non-null object\n",
      "currency              671205 non-null object\n",
      "partner_id            657698 non-null float64\n",
      "posted_time           671205 non-null object\n",
      "disbursed_time        668809 non-null object\n",
      "funded_time           622874 non-null object\n",
      "term_in_months        671205 non-null float64\n",
      "lender_count          671205 non-null int64\n",
      "tags                  499789 non-null object\n",
      "borrower_genders      666984 non-null object\n",
      "repayment_interval    671205 non-null object\n",
      "date                  671205 non-null object\n",
      "dtypes: float64(4), int64(2), object(14)\n",
      "memory usage: 102.4+ MB\n"
     ]
    }
   ],
   "source": [
    "kiva_loans = kiva_loans_o.copy()\n",
    "kiva_loans.info()"
   ]
  },
  {
   "cell_type": "code",
   "execution_count": 4,
   "metadata": {},
   "outputs": [
    {
     "name": "stdout",
     "output_type": "stream",
     "text": [
      "<class 'pandas.core.frame.DataFrame'>\n",
      "RangeIndex: 671205 entries, 0 to 671204\n",
      "Data columns (total 20 columns):\n",
      "id                    671205 non-null int64\n",
      "funded_amount         671205 non-null float64\n",
      "loan_amount           671205 non-null float64\n",
      "activity              671205 non-null object\n",
      "sector                671205 non-null object\n",
      "use                   666973 non-null object\n",
      "country_code          671197 non-null object\n",
      "country               671205 non-null object\n",
      "region                614405 non-null object\n",
      "currency              671205 non-null object\n",
      "partner_id            657698 non-null float64\n",
      "posted_time           671205 non-null datetime64[ns]\n",
      "disbursed_time        668809 non-null datetime64[ns]\n",
      "funded_time           622874 non-null datetime64[ns]\n",
      "term_in_months        671205 non-null float64\n",
      "lender_count          671205 non-null int64\n",
      "tags                  671205 non-null object\n",
      "borrower_genders      671205 non-null object\n",
      "repayment_interval    671205 non-null object\n",
      "date                  671205 non-null datetime64[ns]\n",
      "dtypes: datetime64[ns](4), float64(4), int64(2), object(10)\n",
      "memory usage: 102.4+ MB\n"
     ]
    }
   ],
   "source": [
    "# Times\n",
    "time_cols = ['posted_time', 'disbursed_time', 'funded_time', 'date']\n",
    "for col in time_cols:\n",
    "    kiva_loans[col] = pd.to_datetime(kiva_loans[col])\n",
    "    \n",
    "# Lists\n",
    "def to_list(strg, sep = ', '):\n",
    "    if strg == 'nan':\n",
    "        return []\n",
    "    return strg.split(sep=sep)\n",
    "\n",
    "list_cols = ['tags', 'borrower_genders']\n",
    "for col in list_cols:\n",
    "    kiva_loans[col] = kiva_loans[col].astype(str).apply(to_list)\n",
    "    \n",
    "kiva_loans.info()"
   ]
  },
  {
   "cell_type": "code",
   "execution_count": 5,
   "metadata": {},
   "outputs": [
    {
     "data": {
      "text/plain": [
       "Timedelta('0 days 23:59:59')"
      ]
     },
     "execution_count": 5,
     "metadata": {},
     "output_type": "execute_result"
    }
   ],
   "source": [
    "(kiva_loans['posted_time'] - kiva_loans['date']).max()"
   ]
  },
  {
   "cell_type": "markdown",
   "metadata": {},
   "source": [
    "Note that the `date` is just a less precise version of `posted_time`, so `date` can be dropped"
   ]
  },
  {
   "cell_type": "code",
   "execution_count": 6,
   "metadata": {},
   "outputs": [
    {
     "name": "stdout",
     "output_type": "stream",
     "text": [
      "<class 'pandas.core.frame.DataFrame'>\n",
      "RangeIndex: 671205 entries, 0 to 671204\n",
      "Data columns (total 19 columns):\n",
      "id                    671205 non-null int64\n",
      "funded_amount         671205 non-null float64\n",
      "loan_amount           671205 non-null float64\n",
      "activity              671205 non-null object\n",
      "sector                671205 non-null object\n",
      "use                   666973 non-null object\n",
      "country_code          671197 non-null object\n",
      "country               671205 non-null object\n",
      "region                614405 non-null object\n",
      "currency              671205 non-null object\n",
      "partner_id            657698 non-null float64\n",
      "posted_time           671205 non-null datetime64[ns]\n",
      "disbursed_time        668809 non-null datetime64[ns]\n",
      "funded_time           622874 non-null datetime64[ns]\n",
      "term_in_months        671205 non-null float64\n",
      "lender_count          671205 non-null int64\n",
      "tags                  671205 non-null object\n",
      "borrower_genders      671205 non-null object\n",
      "repayment_interval    671205 non-null object\n",
      "dtypes: datetime64[ns](3), float64(4), int64(2), object(10)\n",
      "memory usage: 97.3+ MB\n"
     ]
    }
   ],
   "source": [
    "kiva_loans.drop('date', axis=1, inplace=True)\n",
    "kiva_loans.info()"
   ]
  },
  {
   "cell_type": "markdown",
   "metadata": {},
   "source": [
    "The rest of the dataset looks good, some fields may be unusable/useless, but they can be removed later, since this is the main dataset."
   ]
  },
  {
   "cell_type": "markdown",
   "metadata": {},
   "source": [
    "## `kiva_mpi_region_locations`"
   ]
  },
  {
   "cell_type": "code",
   "execution_count": 7,
   "metadata": {},
   "outputs": [
    {
     "name": "stdout",
     "output_type": "stream",
     "text": [
      "<class 'pandas.core.frame.DataFrame'>\n",
      "RangeIndex: 2772 entries, 0 to 2771\n",
      "Data columns (total 9 columns):\n",
      "LocationName    984 non-null object\n",
      "ISO             1008 non-null object\n",
      "country         1008 non-null object\n",
      "region          984 non-null object\n",
      "world_region    1008 non-null object\n",
      "MPI             984 non-null float64\n",
      "geo             2772 non-null object\n",
      "lat             892 non-null float64\n",
      "lon             892 non-null float64\n",
      "dtypes: float64(3), object(6)\n",
      "memory usage: 195.0+ KB\n"
     ]
    }
   ],
   "source": [
    "kiva_mpi_region_locations = kiva_mpi_region_locations_o.copy()\n",
    "kiva_mpi_region_locations.info()"
   ]
  },
  {
   "cell_type": "code",
   "execution_count": 8,
   "metadata": {},
   "outputs": [
    {
     "name": "stdout",
     "output_type": "stream",
     "text": [
      "<class 'pandas.core.frame.DataFrame'>\n",
      "Int64Index: 984 entries, 0 to 1007\n",
      "Data columns (total 9 columns):\n",
      "LocationName    984 non-null object\n",
      "ISO             984 non-null object\n",
      "country         984 non-null object\n",
      "region          984 non-null object\n",
      "world_region    984 non-null object\n",
      "MPI             984 non-null float64\n",
      "geo             984 non-null object\n",
      "lat             892 non-null float64\n",
      "lon             892 non-null float64\n",
      "dtypes: float64(3), object(6)\n",
      "memory usage: 76.9+ KB\n"
     ]
    }
   ],
   "source": [
    "kiva_mpi_region_locations = kiva_mpi_region_locations[pd.notnull(kiva_mpi_region_locations['MPI'])]\n",
    "kiva_mpi_region_locations.info()"
   ]
  },
  {
   "cell_type": "code",
   "execution_count": 9,
   "metadata": {},
   "outputs": [
    {
     "data": {
      "text/html": [
       "<div>\n",
       "<style scoped>\n",
       "    .dataframe tbody tr th:only-of-type {\n",
       "        vertical-align: middle;\n",
       "    }\n",
       "\n",
       "    .dataframe tbody tr th {\n",
       "        vertical-align: top;\n",
       "    }\n",
       "\n",
       "    .dataframe thead th {\n",
       "        text-align: right;\n",
       "    }\n",
       "</style>\n",
       "<table border=\"1\" class=\"dataframe\">\n",
       "  <thead>\n",
       "    <tr style=\"text-align: right;\">\n",
       "      <th></th>\n",
       "      <th>geo</th>\n",
       "      <th>lat</th>\n",
       "      <th>lon</th>\n",
       "    </tr>\n",
       "  </thead>\n",
       "  <tbody>\n",
       "    <tr>\n",
       "      <th>5</th>\n",
       "      <td>(33.669495, 66.0463534)</td>\n",
       "      <td>33.669495</td>\n",
       "      <td>66.046353</td>\n",
       "    </tr>\n",
       "    <tr>\n",
       "      <th>183</th>\n",
       "      <td>(1000.0, 1000.0)</td>\n",
       "      <td>NaN</td>\n",
       "      <td>NaN</td>\n",
       "    </tr>\n",
       "    <tr>\n",
       "      <th>173</th>\n",
       "      <td>(4.0134386, 9.717007299999999)</td>\n",
       "      <td>4.013439</td>\n",
       "      <td>9.717007</td>\n",
       "    </tr>\n",
       "    <tr>\n",
       "      <th>408</th>\n",
       "      <td>(34.5337527, 43.483738)</td>\n",
       "      <td>34.533753</td>\n",
       "      <td>43.483738</td>\n",
       "    </tr>\n",
       "    <tr>\n",
       "      <th>289</th>\n",
       "      <td>(5.8142836, 0.0746767)</td>\n",
       "      <td>5.814284</td>\n",
       "      <td>0.074677</td>\n",
       "    </tr>\n",
       "  </tbody>\n",
       "</table>\n",
       "</div>"
      ],
      "text/plain": [
       "                                geo        lat        lon\n",
       "5           (33.669495, 66.0463534)  33.669495  66.046353\n",
       "183                (1000.0, 1000.0)        NaN        NaN\n",
       "173  (4.0134386, 9.717007299999999)   4.013439   9.717007\n",
       "408         (34.5337527, 43.483738)  34.533753  43.483738\n",
       "289          (5.8142836, 0.0746767)   5.814284   0.074677"
      ]
     },
     "execution_count": 9,
     "metadata": {},
     "output_type": "execute_result"
    }
   ],
   "source": [
    "kiva_mpi_region_locations[['geo', 'lat', 'lon']].sample(5)"
   ]
  },
  {
   "cell_type": "markdown",
   "metadata": {},
   "source": [
    "Note how `geo` is just a more complicated version of `lat` and `lon`, so it can be dropped"
   ]
  },
  {
   "cell_type": "code",
   "execution_count": 10,
   "metadata": {},
   "outputs": [
    {
     "name": "stdout",
     "output_type": "stream",
     "text": [
      "<class 'pandas.core.frame.DataFrame'>\n",
      "Int64Index: 984 entries, 0 to 1007\n",
      "Data columns (total 8 columns):\n",
      "LocationName    984 non-null object\n",
      "ISO             984 non-null object\n",
      "country         984 non-null object\n",
      "region          984 non-null object\n",
      "world_region    984 non-null object\n",
      "MPI             984 non-null float64\n",
      "lat             892 non-null float64\n",
      "lon             892 non-null float64\n",
      "dtypes: float64(3), object(5)\n",
      "memory usage: 69.2+ KB\n"
     ]
    }
   ],
   "source": [
    "kiva_mpi_region_locations.drop('geo', axis=1, inplace=True)\n",
    "kiva_mpi_region_locations.info()"
   ]
  },
  {
   "cell_type": "markdown",
   "metadata": {},
   "source": [
    "## `loan_theme_ids`"
   ]
  },
  {
   "cell_type": "code",
   "execution_count": 11,
   "metadata": {},
   "outputs": [
    {
     "name": "stdout",
     "output_type": "stream",
     "text": [
      "<class 'pandas.core.frame.DataFrame'>\n",
      "RangeIndex: 779092 entries, 0 to 779091\n",
      "Data columns (total 4 columns):\n",
      "id                 779092 non-null int64\n",
      "Loan Theme ID      764279 non-null object\n",
      "Loan Theme Type    764279 non-null object\n",
      "Partner ID         764279 non-null float64\n",
      "dtypes: float64(1), int64(1), object(2)\n",
      "memory usage: 23.8+ MB\n"
     ]
    }
   ],
   "source": [
    "loan_theme_ids = loan_theme_ids_o.copy()\n",
    "loan_theme_ids.info()"
   ]
  },
  {
   "cell_type": "code",
   "execution_count": 12,
   "metadata": {},
   "outputs": [
    {
     "data": {
      "text/html": [
       "<div>\n",
       "<style scoped>\n",
       "    .dataframe tbody tr th:only-of-type {\n",
       "        vertical-align: middle;\n",
       "    }\n",
       "\n",
       "    .dataframe tbody tr th {\n",
       "        vertical-align: top;\n",
       "    }\n",
       "\n",
       "    .dataframe thead th {\n",
       "        text-align: right;\n",
       "    }\n",
       "</style>\n",
       "<table border=\"1\" class=\"dataframe\">\n",
       "  <thead>\n",
       "    <tr style=\"text-align: right;\">\n",
       "      <th></th>\n",
       "      <th>id</th>\n",
       "      <th>Loan Theme ID</th>\n",
       "      <th>Loan Theme Type</th>\n",
       "      <th>Partner ID</th>\n",
       "    </tr>\n",
       "  </thead>\n",
       "  <tbody>\n",
       "    <tr>\n",
       "      <th>430073</th>\n",
       "      <td>1089261</td>\n",
       "      <td>NaN</td>\n",
       "      <td>NaN</td>\n",
       "      <td>NaN</td>\n",
       "    </tr>\n",
       "    <tr>\n",
       "      <th>422738</th>\n",
       "      <td>1081926</td>\n",
       "      <td>NaN</td>\n",
       "      <td>NaN</td>\n",
       "      <td>NaN</td>\n",
       "    </tr>\n",
       "    <tr>\n",
       "      <th>429958</th>\n",
       "      <td>1089146</td>\n",
       "      <td>NaN</td>\n",
       "      <td>NaN</td>\n",
       "      <td>NaN</td>\n",
       "    </tr>\n",
       "    <tr>\n",
       "      <th>427974</th>\n",
       "      <td>1087162</td>\n",
       "      <td>NaN</td>\n",
       "      <td>NaN</td>\n",
       "      <td>NaN</td>\n",
       "    </tr>\n",
       "    <tr>\n",
       "      <th>509754</th>\n",
       "      <td>1169321</td>\n",
       "      <td>NaN</td>\n",
       "      <td>NaN</td>\n",
       "      <td>NaN</td>\n",
       "    </tr>\n",
       "    <tr>\n",
       "      <th>435816</th>\n",
       "      <td>1095019</td>\n",
       "      <td>NaN</td>\n",
       "      <td>NaN</td>\n",
       "      <td>NaN</td>\n",
       "    </tr>\n",
       "    <tr>\n",
       "      <th>468469</th>\n",
       "      <td>1127848</td>\n",
       "      <td>NaN</td>\n",
       "      <td>NaN</td>\n",
       "      <td>NaN</td>\n",
       "    </tr>\n",
       "    <tr>\n",
       "      <th>422091</th>\n",
       "      <td>1081279</td>\n",
       "      <td>NaN</td>\n",
       "      <td>NaN</td>\n",
       "      <td>NaN</td>\n",
       "    </tr>\n",
       "    <tr>\n",
       "      <th>431883</th>\n",
       "      <td>1091071</td>\n",
       "      <td>NaN</td>\n",
       "      <td>NaN</td>\n",
       "      <td>NaN</td>\n",
       "    </tr>\n",
       "    <tr>\n",
       "      <th>429163</th>\n",
       "      <td>1088351</td>\n",
       "      <td>NaN</td>\n",
       "      <td>NaN</td>\n",
       "      <td>NaN</td>\n",
       "    </tr>\n",
       "  </tbody>\n",
       "</table>\n",
       "</div>"
      ],
      "text/plain": [
       "             id Loan Theme ID Loan Theme Type  Partner ID\n",
       "430073  1089261           NaN             NaN         NaN\n",
       "422738  1081926           NaN             NaN         NaN\n",
       "429958  1089146           NaN             NaN         NaN\n",
       "427974  1087162           NaN             NaN         NaN\n",
       "509754  1169321           NaN             NaN         NaN\n",
       "435816  1095019           NaN             NaN         NaN\n",
       "468469  1127848           NaN             NaN         NaN\n",
       "422091  1081279           NaN             NaN         NaN\n",
       "431883  1091071           NaN             NaN         NaN\n",
       "429163  1088351           NaN             NaN         NaN"
      ]
     },
     "execution_count": 12,
     "metadata": {},
     "output_type": "execute_result"
    }
   ],
   "source": [
    "loan_theme_ids[~pd.notnull(loan_theme_ids['Loan Theme ID'])].sample(10)"
   ]
  },
  {
   "cell_type": "code",
   "execution_count": 13,
   "metadata": {},
   "outputs": [
    {
     "name": "stdout",
     "output_type": "stream",
     "text": [
      "<class 'pandas.core.frame.DataFrame'>\n",
      "Int64Index: 764279 entries, 0 to 779091\n",
      "Data columns (total 4 columns):\n",
      "id                 764279 non-null int64\n",
      "Loan Theme ID      764279 non-null object\n",
      "Loan Theme Type    764279 non-null object\n",
      "Partner ID         764279 non-null float64\n",
      "dtypes: float64(1), int64(1), object(2)\n",
      "memory usage: 29.2+ MB\n"
     ]
    }
   ],
   "source": [
    "loan_theme_ids = loan_theme_ids_o[pd.notnull(loan_theme_ids_o['Loan Theme ID'])]\n",
    "loan_theme_ids.info()"
   ]
  },
  {
   "cell_type": "markdown",
   "metadata": {},
   "source": [
    "## `loan_themes_by_region`"
   ]
  },
  {
   "cell_type": "code",
   "execution_count": 14,
   "metadata": {},
   "outputs": [
    {
     "name": "stdout",
     "output_type": "stream",
     "text": [
      "<class 'pandas.core.frame.DataFrame'>\n",
      "RangeIndex: 15736 entries, 0 to 15735\n",
      "Data columns (total 21 columns):\n",
      "Partner ID            15736 non-null int64\n",
      "Field Partner Name    15736 non-null object\n",
      "sector                15736 non-null object\n",
      "Loan Theme ID         15736 non-null object\n",
      "Loan Theme Type       15736 non-null object\n",
      "country               15736 non-null object\n",
      "forkiva               15736 non-null object\n",
      "region                15736 non-null object\n",
      "geocode_old           1200 non-null object\n",
      "ISO                   15722 non-null object\n",
      "number                15736 non-null int64\n",
      "amount                15736 non-null int64\n",
      "LocationName          15736 non-null object\n",
      "geocode               13662 non-null object\n",
      "names                 13661 non-null object\n",
      "geo                   15736 non-null object\n",
      "lat                   13662 non-null float64\n",
      "lon                   13662 non-null float64\n",
      "mpi_region            15722 non-null object\n",
      "mpi_geo               9671 non-null object\n",
      "rural_pct             14344 non-null float64\n",
      "dtypes: float64(3), int64(3), object(15)\n",
      "memory usage: 2.5+ MB\n"
     ]
    }
   ],
   "source": [
    "loan_themes_by_region = loan_themes_by_region_o.copy()\n",
    "loan_themes_by_region.info()"
   ]
  },
  {
   "cell_type": "markdown",
   "metadata": {},
   "source": [
    "Any data without a `mpi_region` is useless to us, so we'll drop all rows with null values for that field"
   ]
  },
  {
   "cell_type": "code",
   "execution_count": 15,
   "metadata": {},
   "outputs": [
    {
     "name": "stdout",
     "output_type": "stream",
     "text": [
      "<class 'pandas.core.frame.DataFrame'>\n",
      "Int64Index: 15722 entries, 0 to 15735\n",
      "Data columns (total 21 columns):\n",
      "Partner ID            15722 non-null int64\n",
      "Field Partner Name    15722 non-null object\n",
      "sector                15722 non-null object\n",
      "Loan Theme ID         15722 non-null object\n",
      "Loan Theme Type       15722 non-null object\n",
      "country               15722 non-null object\n",
      "forkiva               15722 non-null object\n",
      "region                15722 non-null object\n",
      "geocode_old           1200 non-null object\n",
      "ISO                   15722 non-null object\n",
      "number                15722 non-null int64\n",
      "amount                15722 non-null int64\n",
      "LocationName          15722 non-null object\n",
      "geocode               13648 non-null object\n",
      "names                 13647 non-null object\n",
      "geo                   15722 non-null object\n",
      "lat                   13648 non-null float64\n",
      "lon                   13648 non-null float64\n",
      "mpi_region            15722 non-null object\n",
      "mpi_geo               9671 non-null object\n",
      "rural_pct             14331 non-null float64\n",
      "dtypes: float64(3), int64(3), object(15)\n",
      "memory usage: 2.6+ MB\n"
     ]
    }
   ],
   "source": [
    "loan_themes_by_region = loan_themes_by_region[pd.notnull(loan_themes_by_region['mpi_region'])]\n",
    "loan_themes_by_region.info()"
   ]
  },
  {
   "cell_type": "code",
   "execution_count": 16,
   "metadata": {},
   "outputs": [
    {
     "data": {
      "text/html": [
       "<div>\n",
       "<style scoped>\n",
       "    .dataframe tbody tr th:only-of-type {\n",
       "        vertical-align: middle;\n",
       "    }\n",
       "\n",
       "    .dataframe tbody tr th {\n",
       "        vertical-align: top;\n",
       "    }\n",
       "\n",
       "    .dataframe thead th {\n",
       "        text-align: right;\n",
       "    }\n",
       "</style>\n",
       "<table border=\"1\" class=\"dataframe\">\n",
       "  <thead>\n",
       "    <tr style=\"text-align: right;\">\n",
       "      <th></th>\n",
       "      <th>geocode_old</th>\n",
       "      <th>geocode</th>\n",
       "      <th>geo</th>\n",
       "      <th>lat</th>\n",
       "      <th>lon</th>\n",
       "      <th>mpi_region</th>\n",
       "      <th>mpi_geo</th>\n",
       "    </tr>\n",
       "  </thead>\n",
       "  <tbody>\n",
       "    <tr>\n",
       "      <th>1512</th>\n",
       "      <td>NaN</td>\n",
       "      <td>[(33.3771898, 35.4835902)]</td>\n",
       "      <td>(33.3771898, 35.4835902)</td>\n",
       "      <td>33.377190</td>\n",
       "      <td>35.483590</td>\n",
       "      <td>LBN</td>\n",
       "      <td>NaN</td>\n",
       "    </tr>\n",
       "    <tr>\n",
       "      <th>8242</th>\n",
       "      <td>NaN</td>\n",
       "      <td>[(13.8025442, -87.8979248)]</td>\n",
       "      <td>(13.8025442, -87.8979248)</td>\n",
       "      <td>13.802544</td>\n",
       "      <td>-87.897925</td>\n",
       "      <td>Morazan, El Salvador</td>\n",
       "      <td>(13.7682, -88.1291387)</td>\n",
       "    </tr>\n",
       "    <tr>\n",
       "      <th>8935</th>\n",
       "      <td>NaN</td>\n",
       "      <td>[(41.0274491, 44.4414717)]</td>\n",
       "      <td>(41.0274491, 44.4414717)</td>\n",
       "      <td>41.027449</td>\n",
       "      <td>44.441472</td>\n",
       "      <td>ARM</td>\n",
       "      <td>NaN</td>\n",
       "    </tr>\n",
       "    <tr>\n",
       "      <th>5039</th>\n",
       "      <td>NaN</td>\n",
       "      <td>[(8.163105, 123.8536876)]</td>\n",
       "      <td>(8.163105, 123.8536876)</td>\n",
       "      <td>8.163105</td>\n",
       "      <td>123.853688</td>\n",
       "      <td>Northern Mindanao, Philippines</td>\n",
       "      <td>(8.020163499999999, 124.6856509)</td>\n",
       "    </tr>\n",
       "    <tr>\n",
       "      <th>9766</th>\n",
       "      <td>NaN</td>\n",
       "      <td>[(31.804381, 34.655314)]</td>\n",
       "      <td>(31.804381, 34.655314)</td>\n",
       "      <td>31.804381</td>\n",
       "      <td>34.655314</td>\n",
       "      <td>ISR</td>\n",
       "      <td>NaN</td>\n",
       "    </tr>\n",
       "    <tr>\n",
       "      <th>13044</th>\n",
       "      <td>NaN</td>\n",
       "      <td>[(11.916667, -7.266666999999999)]</td>\n",
       "      <td>(11.916667, -7.266666999999999)</td>\n",
       "      <td>11.916667</td>\n",
       "      <td>-7.266667</td>\n",
       "      <td>Bamako, Mali</td>\n",
       "      <td>(12.6392316, -8.0028892)</td>\n",
       "    </tr>\n",
       "    <tr>\n",
       "      <th>13793</th>\n",
       "      <td>(-0.2833333, 36.0666667)</td>\n",
       "      <td>[(-0.3030988, 36.080026)]</td>\n",
       "      <td>(-0.3030988, 36.080026)</td>\n",
       "      <td>-0.303099</td>\n",
       "      <td>36.080026</td>\n",
       "      <td>Eastern, Kenya</td>\n",
       "      <td>(0.7137256, 35.517938)</td>\n",
       "    </tr>\n",
       "    <tr>\n",
       "      <th>12584</th>\n",
       "      <td>NaN</td>\n",
       "      <td>[(-8.7430424, 120.9876321)]</td>\n",
       "      <td>(-8.7430424, 120.9876321)</td>\n",
       "      <td>-8.743042</td>\n",
       "      <td>120.987632</td>\n",
       "      <td>East Nusa Tenggara, Indonesia</td>\n",
       "      <td>(-8.657381899999999, 121.0793705)</td>\n",
       "    </tr>\n",
       "    <tr>\n",
       "      <th>1443</th>\n",
       "      <td>NaN</td>\n",
       "      <td>[(33.8629252, 35.9512863)]</td>\n",
       "      <td>(33.8629252, 35.9512863)</td>\n",
       "      <td>33.862925</td>\n",
       "      <td>35.951286</td>\n",
       "      <td>LBN</td>\n",
       "      <td>NaN</td>\n",
       "    </tr>\n",
       "    <tr>\n",
       "      <th>12933</th>\n",
       "      <td>NaN</td>\n",
       "      <td>[(13.621654, -85.8255855)]</td>\n",
       "      <td>(13.621654, -85.8255855)</td>\n",
       "      <td>13.621654</td>\n",
       "      <td>-85.825586</td>\n",
       "      <td>Nueva Segovia, Nicaragua</td>\n",
       "      <td>(13.7894404, -86.0121573)</td>\n",
       "    </tr>\n",
       "  </tbody>\n",
       "</table>\n",
       "</div>"
      ],
      "text/plain": [
       "                    geocode_old                            geocode  \\\n",
       "1512                        NaN         [(33.3771898, 35.4835902)]   \n",
       "8242                        NaN        [(13.8025442, -87.8979248)]   \n",
       "8935                        NaN         [(41.0274491, 44.4414717)]   \n",
       "5039                        NaN          [(8.163105, 123.8536876)]   \n",
       "9766                        NaN           [(31.804381, 34.655314)]   \n",
       "13044                       NaN  [(11.916667, -7.266666999999999)]   \n",
       "13793  (-0.2833333, 36.0666667)          [(-0.3030988, 36.080026)]   \n",
       "12584                       NaN        [(-8.7430424, 120.9876321)]   \n",
       "1443                        NaN         [(33.8629252, 35.9512863)]   \n",
       "12933                       NaN         [(13.621654, -85.8255855)]   \n",
       "\n",
       "                                   geo        lat         lon  \\\n",
       "1512          (33.3771898, 35.4835902)  33.377190   35.483590   \n",
       "8242         (13.8025442, -87.8979248)  13.802544  -87.897925   \n",
       "8935          (41.0274491, 44.4414717)  41.027449   44.441472   \n",
       "5039           (8.163105, 123.8536876)   8.163105  123.853688   \n",
       "9766            (31.804381, 34.655314)  31.804381   34.655314   \n",
       "13044  (11.916667, -7.266666999999999)  11.916667   -7.266667   \n",
       "13793          (-0.3030988, 36.080026)  -0.303099   36.080026   \n",
       "12584        (-8.7430424, 120.9876321)  -8.743042  120.987632   \n",
       "1443          (33.8629252, 35.9512863)  33.862925   35.951286   \n",
       "12933         (13.621654, -85.8255855)  13.621654  -85.825586   \n",
       "\n",
       "                           mpi_region                            mpi_geo  \n",
       "1512                              LBN                                NaN  \n",
       "8242             Morazan, El Salvador             (13.7682, -88.1291387)  \n",
       "8935                              ARM                                NaN  \n",
       "5039   Northern Mindanao, Philippines   (8.020163499999999, 124.6856509)  \n",
       "9766                              ISR                                NaN  \n",
       "13044                    Bamako, Mali           (12.6392316, -8.0028892)  \n",
       "13793                  Eastern, Kenya             (0.7137256, 35.517938)  \n",
       "12584   East Nusa Tenggara, Indonesia  (-8.657381899999999, 121.0793705)  \n",
       "1443                              LBN                                NaN  \n",
       "12933        Nueva Segovia, Nicaragua          (13.7894404, -86.0121573)  "
      ]
     },
     "execution_count": 16,
     "metadata": {},
     "output_type": "execute_result"
    }
   ],
   "source": [
    "loan_themes_by_region[['geocode_old', 'geocode', 'geo', 'lat', 'lon', 'mpi_region', 'mpi_geo']].sample(10)"
   ]
  },
  {
   "cell_type": "markdown",
   "metadata": {},
   "source": [
    "Notice that `geocode` and `geo` are basically indentical, and they are both just more complex versions of `lat` and `lon`, so they can be dropped. `geocode_old` is also pretty useless, since it is mostly empty anyways, so it can also be dropped. `mpi_geo` might not be useful either, but it can be dropped later if need be."
   ]
  },
  {
   "cell_type": "code",
   "execution_count": 17,
   "metadata": {},
   "outputs": [
    {
     "name": "stdout",
     "output_type": "stream",
     "text": [
      "<class 'pandas.core.frame.DataFrame'>\n",
      "Int64Index: 15722 entries, 0 to 15735\n",
      "Data columns (total 18 columns):\n",
      "Partner ID            15722 non-null int64\n",
      "Field Partner Name    15722 non-null object\n",
      "sector                15722 non-null object\n",
      "Loan Theme ID         15722 non-null object\n",
      "Loan Theme Type       15722 non-null object\n",
      "country               15722 non-null object\n",
      "forkiva               15722 non-null object\n",
      "region                15722 non-null object\n",
      "ISO                   15722 non-null object\n",
      "number                15722 non-null int64\n",
      "amount                15722 non-null int64\n",
      "LocationName          15722 non-null object\n",
      "names                 13647 non-null object\n",
      "lat                   13648 non-null float64\n",
      "lon                   13648 non-null float64\n",
      "mpi_region            15722 non-null object\n",
      "mpi_geo               9671 non-null object\n",
      "rural_pct             14331 non-null float64\n",
      "dtypes: float64(3), int64(3), object(12)\n",
      "memory usage: 2.3+ MB\n"
     ]
    }
   ],
   "source": [
    "loan_themes_by_region.drop(['geocode_old', 'geocode', 'geo'], axis=1, inplace=True)\n",
    "loan_themes_by_region.info()"
   ]
  },
  {
   "cell_type": "markdown",
   "metadata": {},
   "source": [
    "## `MPI_national`"
   ]
  },
  {
   "cell_type": "code",
   "execution_count": 18,
   "metadata": {},
   "outputs": [
    {
     "name": "stdout",
     "output_type": "stream",
     "text": [
      "<class 'pandas.core.frame.DataFrame'>\n",
      "RangeIndex: 102 entries, 0 to 101\n",
      "Data columns (total 8 columns):\n",
      "ISO                               102 non-null object\n",
      "Country                           102 non-null object\n",
      "MPI Urban                         102 non-null float64\n",
      "Headcount Ratio Urban             102 non-null float64\n",
      "Intensity of Deprivation Urban    102 non-null float64\n",
      "MPI Rural                         102 non-null float64\n",
      "Headcount Ratio Rural             102 non-null float64\n",
      "Intensity of Deprivation Rural    102 non-null float64\n",
      "dtypes: float64(6), object(2)\n",
      "memory usage: 6.5+ KB\n"
     ]
    }
   ],
   "source": [
    "MPI_national = MPI_national_o.copy()\n",
    "MPI_national.info()"
   ]
  },
  {
   "cell_type": "markdown",
   "metadata": {},
   "source": [
    "## `MPI_subnational`"
   ]
  },
  {
   "cell_type": "code",
   "execution_count": 19,
   "metadata": {},
   "outputs": [
    {
     "name": "stdout",
     "output_type": "stream",
     "text": [
      "<class 'pandas.core.frame.DataFrame'>\n",
      "RangeIndex: 984 entries, 0 to 983\n",
      "Data columns (total 8 columns):\n",
      "ISO country code                     984 non-null object\n",
      "Country                              984 non-null object\n",
      "Sub-national region                  984 non-null object\n",
      "World region                         984 non-null object\n",
      "MPI National                         984 non-null float64\n",
      "MPI Regional                         984 non-null float64\n",
      "Headcount Ratio Regional             984 non-null float64\n",
      "Intensity of deprivation Regional    983 non-null float64\n",
      "dtypes: float64(4), object(4)\n",
      "memory usage: 61.6+ KB\n"
     ]
    }
   ],
   "source": [
    "MPI_subnational = MPI_subnational_o.copy()\n",
    "MPI_subnational.info()"
   ]
  },
  {
   "cell_type": "markdown",
   "metadata": {},
   "source": [
    "# Data Cleaning Code (for reseting datasets)"
   ]
  },
  {
   "cell_type": "code",
   "execution_count": 20,
   "metadata": {},
   "outputs": [],
   "source": [
    "# kiva_loans\n",
    "kiva_loans = kiva_loans_o.copy()\n",
    "\n",
    "# Times\n",
    "time_cols = ['posted_time', 'disbursed_time', 'funded_time', 'date']\n",
    "for col in time_cols:\n",
    "    kiva_loans[col] = pd.to_datetime(kiva_loans[col])\n",
    "    \n",
    "# Lists\n",
    "def to_list(strg, sep = ', '):\n",
    "    if strg == 'nan':\n",
    "        return []\n",
    "    return strg.split(sep=sep)\n",
    "\n",
    "list_cols = ['tags', 'borrower_genders']\n",
    "for col in list_cols:\n",
    "    kiva_loans[col] = kiva_loans[col].astype(str).apply(to_list)\n",
    "\n",
    "kiva_loans.drop('date', axis=1, inplace=True)\n",
    "\n",
    "# kiva_mpi_region_locations\n",
    "kiva_mpi_region_locations = kiva_mpi_region_locations_o.copy()\n",
    "kiva_mpi_region_locations = kiva_mpi_region_locations[pd.notnull(kiva_mpi_region_locations['MPI'])]\n",
    "kiva_mpi_region_locations.drop('geo', axis=1, inplace=True)\n",
    "\n",
    "# loan_theme_ids\n",
    "loan_theme_ids = loan_theme_ids_o.copy()\n",
    "loan_theme_ids = loan_theme_ids_o[pd.notnull(loan_theme_ids_o['Loan Theme ID'])]\n",
    "\n",
    "# loan_themes_by_region\n",
    "loan_themes_by_region = loan_themes_by_region_o.copy()\n",
    "loan_themes_by_region = loan_themes_by_region[pd.notnull(loan_themes_by_region['mpi_region'])]\n",
    "loan_themes_by_region.drop(['geocode_old', 'geocode', 'geo'], axis=1, inplace=True)\n",
    "\n",
    "# MPI_national\n",
    "MPI_national = MPI_national_o.copy()\n",
    "\n",
    "# MPI_subnational\n",
    "MPI_subnational = MPI_subnational_o.copy()"
   ]
  },
  {
   "cell_type": "markdown",
   "metadata": {},
   "source": [
    "# Merging datasets"
   ]
  },
  {
   "cell_type": "code",
   "execution_count": 21,
   "metadata": {},
   "outputs": [
    {
     "name": "stdout",
     "output_type": "stream",
     "text": [
      "<class 'pandas.core.frame.DataFrame'>\n",
      "Int64Index: 671205 entries, 0 to 671204\n",
      "Data columns (total 22 columns):\n",
      "id                    671205 non-null int64\n",
      "funded_amount         671205 non-null float64\n",
      "loan_amount           671205 non-null float64\n",
      "activity              671205 non-null object\n",
      "sector                671205 non-null object\n",
      "use                   666973 non-null object\n",
      "country_code          671197 non-null object\n",
      "country               671205 non-null object\n",
      "region                614405 non-null object\n",
      "currency              671205 non-null object\n",
      "partner_id            657698 non-null float64\n",
      "posted_time           671205 non-null datetime64[ns]\n",
      "disbursed_time        668809 non-null datetime64[ns]\n",
      "funded_time           622874 non-null datetime64[ns]\n",
      "term_in_months        671205 non-null float64\n",
      "lender_count          671205 non-null int64\n",
      "tags                  671205 non-null object\n",
      "borrower_genders      671205 non-null object\n",
      "repayment_interval    671205 non-null object\n",
      "Loan Theme ID         657692 non-null object\n",
      "Loan Theme Type       657692 non-null object\n",
      "Partner ID            657692 non-null float64\n",
      "dtypes: datetime64[ns](3), float64(5), int64(2), object(12)\n",
      "memory usage: 117.8+ MB\n"
     ]
    }
   ],
   "source": [
    "merged_data = kiva_loans.merge(\n",
    "    loan_theme_ids,\n",
    "    how='left',\n",
    "    on='id',\n",
    "    suffixes=('_kl','_lti')\n",
    ")\n",
    "merged_data.info()"
   ]
  },
  {
   "cell_type": "code",
   "execution_count": 22,
   "metadata": {},
   "outputs": [
    {
     "name": "stdout",
     "output_type": "stream",
     "text": [
      "<class 'pandas.core.frame.DataFrame'>\n",
      "Int64Index: 671205 entries, 0 to 671204\n",
      "Data columns (total 37 columns):\n",
      "id                      671205 non-null int64\n",
      "funded_amount           671205 non-null float64\n",
      "loan_amount             671205 non-null float64\n",
      "activity                671205 non-null object\n",
      "sector                  671205 non-null object\n",
      "use                     666973 non-null object\n",
      "country_code            671197 non-null object\n",
      "country                 671205 non-null object\n",
      "region                  614405 non-null object\n",
      "currency                671205 non-null object\n",
      "partner_id              657698 non-null float64\n",
      "posted_time             671205 non-null datetime64[ns]\n",
      "disbursed_time          668809 non-null datetime64[ns]\n",
      "funded_time             622874 non-null datetime64[ns]\n",
      "term_in_months          671205 non-null float64\n",
      "lender_count            671205 non-null int64\n",
      "tags                    671205 non-null object\n",
      "borrower_genders        671205 non-null object\n",
      "repayment_interval      671205 non-null object\n",
      "Loan Theme ID           657692 non-null object\n",
      "Loan Theme Type         657692 non-null object\n",
      "Partner ID              657692 non-null object\n",
      "Field Partner Name      533461 non-null object\n",
      "sector_ltbr             533461 non-null object\n",
      "Loan Theme Type_ltbr    533461 non-null object\n",
      "country_ltbr            533461 non-null object\n",
      "forkiva                 533461 non-null object\n",
      "ISO                     533461 non-null object\n",
      "number                  533461 non-null float64\n",
      "amount                  533461 non-null float64\n",
      "LocationName            533461 non-null object\n",
      "names                   518986 non-null object\n",
      "lat                     518987 non-null float64\n",
      "lon                     518987 non-null float64\n",
      "mpi_region              533461 non-null object\n",
      "mpi_geo                 459053 non-null object\n",
      "rural_pct               500967 non-null float64\n",
      "dtypes: datetime64[ns](3), float64(9), int64(2), object(23)\n",
      "memory usage: 194.6+ MB\n"
     ]
    }
   ],
   "source": [
    "merged_data = merged_data.merge(\n",
    "    loan_themes_by_region,\n",
    "    how='left',\n",
    "    on=['Loan Theme ID', 'Partner ID', 'region'],\n",
    "    suffixes=('', '_ltbr')\n",
    ")\n",
    "merged_data.info()"
   ]
  },
  {
   "cell_type": "markdown",
   "metadata": {},
   "source": [
    "Remove all data without a `mpi_region`, since we need the more granular data."
   ]
  },
  {
   "cell_type": "code",
   "execution_count": 23,
   "metadata": {},
   "outputs": [
    {
     "name": "stdout",
     "output_type": "stream",
     "text": [
      "<class 'pandas.core.frame.DataFrame'>\n",
      "Int64Index: 533461 entries, 1 to 671149\n",
      "Data columns (total 37 columns):\n",
      "id                      533461 non-null int64\n",
      "funded_amount           533461 non-null float64\n",
      "loan_amount             533461 non-null float64\n",
      "activity                533461 non-null object\n",
      "sector                  533461 non-null object\n",
      "use                     533456 non-null object\n",
      "country_code            533453 non-null object\n",
      "country                 533461 non-null object\n",
      "region                  533461 non-null object\n",
      "currency                533461 non-null object\n",
      "partner_id              533461 non-null float64\n",
      "posted_time             533461 non-null datetime64[ns]\n",
      "disbursed_time          533461 non-null datetime64[ns]\n",
      "funded_time             499549 non-null datetime64[ns]\n",
      "term_in_months          533461 non-null float64\n",
      "lender_count            533461 non-null int64\n",
      "tags                    533461 non-null object\n",
      "borrower_genders        533461 non-null object\n",
      "repayment_interval      533461 non-null object\n",
      "Loan Theme ID           533461 non-null object\n",
      "Loan Theme Type         533461 non-null object\n",
      "Partner ID              533461 non-null object\n",
      "Field Partner Name      533461 non-null object\n",
      "sector_ltbr             533461 non-null object\n",
      "Loan Theme Type_ltbr    533461 non-null object\n",
      "country_ltbr            533461 non-null object\n",
      "forkiva                 533461 non-null object\n",
      "ISO                     533461 non-null object\n",
      "number                  533461 non-null float64\n",
      "amount                  533461 non-null float64\n",
      "LocationName            533461 non-null object\n",
      "names                   518986 non-null object\n",
      "lat                     518987 non-null float64\n",
      "lon                     518987 non-null float64\n",
      "mpi_region              533461 non-null object\n",
      "mpi_geo                 459053 non-null object\n",
      "rural_pct               500967 non-null float64\n",
      "dtypes: datetime64[ns](3), float64(9), int64(2), object(23)\n",
      "memory usage: 154.7+ MB\n"
     ]
    }
   ],
   "source": [
    "merged_data = merged_data[pd.notnull(merged_data['mpi_region'])]\n",
    "merged_data.info()"
   ]
  },
  {
   "cell_type": "code",
   "execution_count": 24,
   "metadata": {},
   "outputs": [
    {
     "data": {
      "text/plain": [
       "517133"
      ]
     },
     "execution_count": 24,
     "metadata": {},
     "output_type": "execute_result"
    }
   ],
   "source": [
    "(merged_data['sector'] != merged_data['sector_ltbr']).sum()"
   ]
  },
  {
   "cell_type": "markdown",
   "metadata": {},
   "source": [
    "These columns actually have rather different values, so I will leave both. Let's look at them though, to see if they are actually similar, just formatted differently"
   ]
  },
  {
   "cell_type": "code",
   "execution_count": 25,
   "metadata": {},
   "outputs": [
    {
     "data": {
      "text/html": [
       "<div>\n",
       "<style scoped>\n",
       "    .dataframe tbody tr th:only-of-type {\n",
       "        vertical-align: middle;\n",
       "    }\n",
       "\n",
       "    .dataframe tbody tr th {\n",
       "        vertical-align: top;\n",
       "    }\n",
       "\n",
       "    .dataframe thead th {\n",
       "        text-align: right;\n",
       "    }\n",
       "</style>\n",
       "<table border=\"1\" class=\"dataframe\">\n",
       "  <thead>\n",
       "    <tr style=\"text-align: right;\">\n",
       "      <th></th>\n",
       "      <th>sector</th>\n",
       "      <th>sector_ltbr</th>\n",
       "    </tr>\n",
       "  </thead>\n",
       "  <tbody>\n",
       "    <tr>\n",
       "      <th>181194</th>\n",
       "      <td>Food</td>\n",
       "      <td>General Financial Inclusion</td>\n",
       "    </tr>\n",
       "    <tr>\n",
       "      <th>139401</th>\n",
       "      <td>Education</td>\n",
       "      <td>General Financial Inclusion</td>\n",
       "    </tr>\n",
       "    <tr>\n",
       "      <th>650884</th>\n",
       "      <td>Agriculture</td>\n",
       "      <td>General Financial Inclusion</td>\n",
       "    </tr>\n",
       "    <tr>\n",
       "      <th>579917</th>\n",
       "      <td>Education</td>\n",
       "      <td>General Financial Inclusion</td>\n",
       "    </tr>\n",
       "    <tr>\n",
       "      <th>239369</th>\n",
       "      <td>Retail</td>\n",
       "      <td>General Financial Inclusion</td>\n",
       "    </tr>\n",
       "    <tr>\n",
       "      <th>114607</th>\n",
       "      <td>Retail</td>\n",
       "      <td>General Financial Inclusion</td>\n",
       "    </tr>\n",
       "    <tr>\n",
       "      <th>64821</th>\n",
       "      <td>Retail</td>\n",
       "      <td>General Financial Inclusion</td>\n",
       "    </tr>\n",
       "    <tr>\n",
       "      <th>54923</th>\n",
       "      <td>Food</td>\n",
       "      <td>General Financial Inclusion</td>\n",
       "    </tr>\n",
       "    <tr>\n",
       "      <th>405581</th>\n",
       "      <td>Agriculture</td>\n",
       "      <td>General Financial Inclusion</td>\n",
       "    </tr>\n",
       "    <tr>\n",
       "      <th>312803</th>\n",
       "      <td>Food</td>\n",
       "      <td>General Financial Inclusion</td>\n",
       "    </tr>\n",
       "    <tr>\n",
       "      <th>245576</th>\n",
       "      <td>Food</td>\n",
       "      <td>General Financial Inclusion</td>\n",
       "    </tr>\n",
       "    <tr>\n",
       "      <th>581148</th>\n",
       "      <td>Food</td>\n",
       "      <td>General Financial Inclusion</td>\n",
       "    </tr>\n",
       "    <tr>\n",
       "      <th>163171</th>\n",
       "      <td>Clothing</td>\n",
       "      <td>General Financial Inclusion</td>\n",
       "    </tr>\n",
       "    <tr>\n",
       "      <th>130163</th>\n",
       "      <td>Agriculture</td>\n",
       "      <td>General Financial Inclusion</td>\n",
       "    </tr>\n",
       "    <tr>\n",
       "      <th>251527</th>\n",
       "      <td>Retail</td>\n",
       "      <td>General Financial Inclusion</td>\n",
       "    </tr>\n",
       "  </tbody>\n",
       "</table>\n",
       "</div>"
      ],
      "text/plain": [
       "             sector                  sector_ltbr\n",
       "181194         Food  General Financial Inclusion\n",
       "139401    Education  General Financial Inclusion\n",
       "650884  Agriculture  General Financial Inclusion\n",
       "579917    Education  General Financial Inclusion\n",
       "239369       Retail  General Financial Inclusion\n",
       "114607       Retail  General Financial Inclusion\n",
       "64821        Retail  General Financial Inclusion\n",
       "54923          Food  General Financial Inclusion\n",
       "405581  Agriculture  General Financial Inclusion\n",
       "312803         Food  General Financial Inclusion\n",
       "245576         Food  General Financial Inclusion\n",
       "581148         Food  General Financial Inclusion\n",
       "163171     Clothing  General Financial Inclusion\n",
       "130163  Agriculture  General Financial Inclusion\n",
       "251527       Retail  General Financial Inclusion"
      ]
     },
     "execution_count": 25,
     "metadata": {},
     "output_type": "execute_result"
    }
   ],
   "source": [
    "merged_data[['sector', 'sector_ltbr']].sample(15)"
   ]
  },
  {
   "cell_type": "raw",
   "metadata": {},
   "source": [
    "From this sample we can see that either the features match, or `sector_lbtr` is not very specific. Let's explore a little more"
   ]
  },
  {
   "cell_type": "code",
   "execution_count": 26,
   "metadata": {},
   "outputs": [
    {
     "data": {
      "text/html": [
       "<div>\n",
       "<style scoped>\n",
       "    .dataframe tbody tr th:only-of-type {\n",
       "        vertical-align: middle;\n",
       "    }\n",
       "\n",
       "    .dataframe tbody tr th {\n",
       "        vertical-align: top;\n",
       "    }\n",
       "\n",
       "    .dataframe thead th {\n",
       "        text-align: right;\n",
       "    }\n",
       "</style>\n",
       "<table border=\"1\" class=\"dataframe\">\n",
       "  <thead>\n",
       "    <tr style=\"text-align: right;\">\n",
       "      <th></th>\n",
       "      <th>sector</th>\n",
       "      <th>sector_ltbr</th>\n",
       "    </tr>\n",
       "  </thead>\n",
       "  <tbody>\n",
       "    <tr>\n",
       "      <th>486985</th>\n",
       "      <td>Food</td>\n",
       "      <td>Other</td>\n",
       "    </tr>\n",
       "    <tr>\n",
       "      <th>537560</th>\n",
       "      <td>Personal Use</td>\n",
       "      <td>Water and Sanitation</td>\n",
       "    </tr>\n",
       "    <tr>\n",
       "      <th>527406</th>\n",
       "      <td>Personal Use</td>\n",
       "      <td>Water and Sanitation</td>\n",
       "    </tr>\n",
       "    <tr>\n",
       "      <th>610696</th>\n",
       "      <td>Services</td>\n",
       "      <td>Other</td>\n",
       "    </tr>\n",
       "    <tr>\n",
       "      <th>232492</th>\n",
       "      <td>Services</td>\n",
       "      <td>Other</td>\n",
       "    </tr>\n",
       "    <tr>\n",
       "      <th>459025</th>\n",
       "      <td>Personal Use</td>\n",
       "      <td>Water and Sanitation</td>\n",
       "    </tr>\n",
       "    <tr>\n",
       "      <th>519555</th>\n",
       "      <td>Personal Use</td>\n",
       "      <td>Water and Sanitation</td>\n",
       "    </tr>\n",
       "    <tr>\n",
       "      <th>309146</th>\n",
       "      <td>Personal Use</td>\n",
       "      <td>Water and Sanitation</td>\n",
       "    </tr>\n",
       "    <tr>\n",
       "      <th>318911</th>\n",
       "      <td>Agriculture</td>\n",
       "      <td>Water and Sanitation</td>\n",
       "    </tr>\n",
       "    <tr>\n",
       "      <th>483585</th>\n",
       "      <td>Personal Use</td>\n",
       "      <td>Water and Sanitation</td>\n",
       "    </tr>\n",
       "  </tbody>\n",
       "</table>\n",
       "</div>"
      ],
      "text/plain": [
       "              sector           sector_ltbr\n",
       "486985          Food                 Other\n",
       "537560  Personal Use  Water and Sanitation\n",
       "527406  Personal Use  Water and Sanitation\n",
       "610696      Services                 Other\n",
       "232492      Services                 Other\n",
       "459025  Personal Use  Water and Sanitation\n",
       "519555  Personal Use  Water and Sanitation\n",
       "309146  Personal Use  Water and Sanitation\n",
       "318911   Agriculture  Water and Sanitation\n",
       "483585  Personal Use  Water and Sanitation"
      ]
     },
     "execution_count": 26,
     "metadata": {},
     "output_type": "execute_result"
    }
   ],
   "source": [
    "temp = merged_data[merged_data['sector_ltbr'] != 'General Financial Inclusion']\n",
    "temp = temp[temp['sector'] != temp['sector_ltbr']][['sector', 'sector_ltbr']]\n",
    "temp.sample(10)"
   ]
  },
  {
   "cell_type": "markdown",
   "metadata": {},
   "source": [
    "We can see here that many of the rows that don't have \"General Financial Inclusion\" and that `sector` and `sector_ltbr` don't match, have either \"Personal Use\" under `sector` or \"other\" under `sector_ltbr`. Let's see if any data does not follow this trend"
   ]
  },
  {
   "cell_type": "code",
   "execution_count": 27,
   "metadata": {},
   "outputs": [
    {
     "data": {
      "text/html": [
       "<div>\n",
       "<style scoped>\n",
       "    .dataframe tbody tr th:only-of-type {\n",
       "        vertical-align: middle;\n",
       "    }\n",
       "\n",
       "    .dataframe tbody tr th {\n",
       "        vertical-align: top;\n",
       "    }\n",
       "\n",
       "    .dataframe thead th {\n",
       "        text-align: right;\n",
       "    }\n",
       "</style>\n",
       "<table border=\"1\" class=\"dataframe\">\n",
       "  <thead>\n",
       "    <tr style=\"text-align: right;\">\n",
       "      <th></th>\n",
       "      <th>sector</th>\n",
       "      <th>sector_ltbr</th>\n",
       "    </tr>\n",
       "  </thead>\n",
       "  <tbody>\n",
       "    <tr>\n",
       "      <th>202532</th>\n",
       "      <td>Services</td>\n",
       "      <td>Mobile Money and ICT</td>\n",
       "    </tr>\n",
       "    <tr>\n",
       "      <th>437270</th>\n",
       "      <td>Services</td>\n",
       "      <td>Clean Energy</td>\n",
       "    </tr>\n",
       "    <tr>\n",
       "      <th>42416</th>\n",
       "      <td>Retail</td>\n",
       "      <td>Mobile Money and ICT</td>\n",
       "    </tr>\n",
       "    <tr>\n",
       "      <th>212512</th>\n",
       "      <td>Education</td>\n",
       "      <td>Clean Energy</td>\n",
       "    </tr>\n",
       "    <tr>\n",
       "      <th>599825</th>\n",
       "      <td>Clothing</td>\n",
       "      <td>Water and Sanitation</td>\n",
       "    </tr>\n",
       "    <tr>\n",
       "      <th>650988</th>\n",
       "      <td>Agriculture</td>\n",
       "      <td>Clean Energy</td>\n",
       "    </tr>\n",
       "    <tr>\n",
       "      <th>50008</th>\n",
       "      <td>Agriculture</td>\n",
       "      <td>Education</td>\n",
       "    </tr>\n",
       "    <tr>\n",
       "      <th>221938</th>\n",
       "      <td>Education</td>\n",
       "      <td>Clean Energy</td>\n",
       "    </tr>\n",
       "    <tr>\n",
       "      <th>489850</th>\n",
       "      <td>Retail</td>\n",
       "      <td>Mobile Money and ICT</td>\n",
       "    </tr>\n",
       "    <tr>\n",
       "      <th>117436</th>\n",
       "      <td>Clothing</td>\n",
       "      <td>Education</td>\n",
       "    </tr>\n",
       "  </tbody>\n",
       "</table>\n",
       "</div>"
      ],
      "text/plain": [
       "             sector           sector_ltbr\n",
       "202532     Services  Mobile Money and ICT\n",
       "437270     Services          Clean Energy\n",
       "42416        Retail  Mobile Money and ICT\n",
       "212512    Education          Clean Energy\n",
       "599825     Clothing  Water and Sanitation\n",
       "650988  Agriculture          Clean Energy\n",
       "50008   Agriculture             Education\n",
       "221938    Education          Clean Energy\n",
       "489850       Retail  Mobile Money and ICT\n",
       "117436     Clothing             Education"
      ]
     },
     "execution_count": 27,
     "metadata": {},
     "output_type": "execute_result"
    }
   ],
   "source": [
    "temp = temp[temp['sector'] != 'Personal Use']\n",
    "temp = temp[temp['sector_ltbr'] != 'other']\n",
    "temp = temp[temp['sector_ltbr'] != 'Other']\n",
    "temp.sample(10)"
   ]
  },
  {
   "cell_type": "code",
   "execution_count": 28,
   "metadata": {},
   "outputs": [
    {
     "data": {
      "text/plain": [
       "11348"
      ]
     },
     "execution_count": 28,
     "metadata": {},
     "output_type": "execute_result"
    }
   ],
   "source": [
    "len(temp)"
   ]
  },
  {
   "cell_type": "markdown",
   "metadata": {},
   "source": [
    "These last few (11,348) entries have rather conflicting results, so I'll leave both features here for now, but if we want to combine them, it shouldn't be too hard, and we would only lose 11k entries"
   ]
  },
  {
   "cell_type": "code",
   "execution_count": 29,
   "metadata": {},
   "outputs": [
    {
     "name": "stdout",
     "output_type": "stream",
     "text": [
      "<class 'pandas.core.frame.DataFrame'>\n",
      "Int64Index: 533461 entries, 1 to 671149\n",
      "Data columns (total 37 columns):\n",
      "id                      533461 non-null int64\n",
      "funded_amount           533461 non-null float64\n",
      "loan_amount             533461 non-null float64\n",
      "activity                533461 non-null object\n",
      "sector                  533461 non-null object\n",
      "use                     533456 non-null object\n",
      "country_code            533453 non-null object\n",
      "country                 533461 non-null object\n",
      "region                  533461 non-null object\n",
      "currency                533461 non-null object\n",
      "partner_id              533461 non-null float64\n",
      "posted_time             533461 non-null datetime64[ns]\n",
      "disbursed_time          533461 non-null datetime64[ns]\n",
      "funded_time             499549 non-null datetime64[ns]\n",
      "term_in_months          533461 non-null float64\n",
      "lender_count            533461 non-null int64\n",
      "tags                    533461 non-null object\n",
      "borrower_genders        533461 non-null object\n",
      "repayment_interval      533461 non-null object\n",
      "Loan Theme ID           533461 non-null object\n",
      "Loan Theme Type         533461 non-null object\n",
      "Partner ID              533461 non-null object\n",
      "Field Partner Name      533461 non-null object\n",
      "sector_ltbr             533461 non-null object\n",
      "Loan Theme Type_ltbr    533461 non-null object\n",
      "country_ltbr            533461 non-null object\n",
      "forkiva                 533461 non-null object\n",
      "ISO                     533461 non-null object\n",
      "number                  533461 non-null float64\n",
      "amount                  533461 non-null float64\n",
      "LocationName            533461 non-null object\n",
      "names                   518986 non-null object\n",
      "lat                     518987 non-null float64\n",
      "lon                     518987 non-null float64\n",
      "mpi_region              533461 non-null object\n",
      "mpi_geo                 459053 non-null object\n",
      "rural_pct               500967 non-null float64\n",
      "dtypes: datetime64[ns](3), float64(9), int64(2), object(23)\n",
      "memory usage: 154.7+ MB\n"
     ]
    }
   ],
   "source": [
    "merged_data.info()"
   ]
  },
  {
   "cell_type": "code",
   "execution_count": 30,
   "metadata": {},
   "outputs": [
    {
     "data": {
      "text/plain": [
       "68"
      ]
     },
     "execution_count": 30,
     "metadata": {},
     "output_type": "execute_result"
    }
   ],
   "source": [
    "(merged_data['Loan Theme Type'] != merged_data['Loan Theme Type_ltbr']).sum()"
   ]
  },
  {
   "cell_type": "markdown",
   "metadata": {},
   "source": [
    "There seems to be some uniqueness within these features, so let's see what they are"
   ]
  },
  {
   "cell_type": "code",
   "execution_count": 31,
   "metadata": {},
   "outputs": [
    {
     "data": {
      "text/html": [
       "<div>\n",
       "<style scoped>\n",
       "    .dataframe tbody tr th:only-of-type {\n",
       "        vertical-align: middle;\n",
       "    }\n",
       "\n",
       "    .dataframe tbody tr th {\n",
       "        vertical-align: top;\n",
       "    }\n",
       "\n",
       "    .dataframe thead th {\n",
       "        text-align: right;\n",
       "    }\n",
       "</style>\n",
       "<table border=\"1\" class=\"dataframe\">\n",
       "  <thead>\n",
       "    <tr style=\"text-align: right;\">\n",
       "      <th></th>\n",
       "      <th>Loan Theme Type</th>\n",
       "      <th>Loan Theme Type_ltbr</th>\n",
       "    </tr>\n",
       "  </thead>\n",
       "  <tbody>\n",
       "    <tr>\n",
       "      <th>70912</th>\n",
       "      <td>Zaf̬n</td>\n",
       "      <td>ZafÍÎn</td>\n",
       "    </tr>\n",
       "  </tbody>\n",
       "</table>\n",
       "</div>"
      ],
      "text/plain": [
       "      Loan Theme Type Loan Theme Type_ltbr\n",
       "70912           Zaf̬n               ZafÍÎn"
      ]
     },
     "execution_count": 31,
     "metadata": {},
     "output_type": "execute_result"
    }
   ],
   "source": [
    "merged_data[merged_data['Loan Theme Type'] != merged_data['Loan Theme Type_ltbr']][['Loan Theme Type','Loan Theme Type_ltbr']].drop_duplicates()"
   ]
  },
  {
   "cell_type": "markdown",
   "metadata": {},
   "source": [
    "Since the `_ltbr` version of the dataset has more to do with merging, I will just keep it, but remove the 'lbtr' from the end"
   ]
  },
  {
   "cell_type": "code",
   "execution_count": 32,
   "metadata": {},
   "outputs": [
    {
     "name": "stdout",
     "output_type": "stream",
     "text": [
      "<class 'pandas.core.frame.DataFrame'>\n",
      "Int64Index: 533461 entries, 1 to 671149\n",
      "Data columns (total 36 columns):\n",
      "id                    533461 non-null int64\n",
      "funded_amount         533461 non-null float64\n",
      "loan_amount           533461 non-null float64\n",
      "activity              533461 non-null object\n",
      "sector                533461 non-null object\n",
      "use                   533456 non-null object\n",
      "country_code          533453 non-null object\n",
      "country               533461 non-null object\n",
      "region                533461 non-null object\n",
      "currency              533461 non-null object\n",
      "partner_id            533461 non-null float64\n",
      "posted_time           533461 non-null datetime64[ns]\n",
      "disbursed_time        533461 non-null datetime64[ns]\n",
      "funded_time           499549 non-null datetime64[ns]\n",
      "term_in_months        533461 non-null float64\n",
      "lender_count          533461 non-null int64\n",
      "tags                  533461 non-null object\n",
      "borrower_genders      533461 non-null object\n",
      "repayment_interval    533461 non-null object\n",
      "Loan Theme ID         533461 non-null object\n",
      "Loan Theme Type       533461 non-null object\n",
      "Partner ID            533461 non-null object\n",
      "Field Partner Name    533461 non-null object\n",
      "sector_ltbr           533461 non-null object\n",
      "country_ltbr          533461 non-null object\n",
      "forkiva               533461 non-null object\n",
      "ISO                   533461 non-null object\n",
      "number                533461 non-null float64\n",
      "amount                533461 non-null float64\n",
      "LocationName          533461 non-null object\n",
      "names                 518986 non-null object\n",
      "lat                   518987 non-null float64\n",
      "lon                   518987 non-null float64\n",
      "mpi_region            533461 non-null object\n",
      "mpi_geo               459053 non-null object\n",
      "rural_pct             500967 non-null float64\n",
      "dtypes: datetime64[ns](3), float64(9), int64(2), object(22)\n",
      "memory usage: 150.6+ MB\n"
     ]
    }
   ],
   "source": [
    "merged_data['Loan Theme Type'] = merged_data['Loan Theme Type_ltbr']\n",
    "merged_data.drop('Loan Theme Type_ltbr', axis=1, inplace=True)\n",
    "merged_data.info()"
   ]
  },
  {
   "cell_type": "code",
   "execution_count": 33,
   "metadata": {},
   "outputs": [
    {
     "data": {
      "text/plain": [
       "0"
      ]
     },
     "execution_count": 33,
     "metadata": {},
     "output_type": "execute_result"
    }
   ],
   "source": [
    "(merged_data['country'] != merged_data['country_ltbr']).sum()"
   ]
  },
  {
   "cell_type": "markdown",
   "metadata": {},
   "source": [
    "These are identical so I can just drop one"
   ]
  },
  {
   "cell_type": "code",
   "execution_count": 34,
   "metadata": {},
   "outputs": [
    {
     "name": "stdout",
     "output_type": "stream",
     "text": [
      "<class 'pandas.core.frame.DataFrame'>\n",
      "Int64Index: 533461 entries, 1 to 671149\n",
      "Data columns (total 35 columns):\n",
      "id                    533461 non-null int64\n",
      "funded_amount         533461 non-null float64\n",
      "loan_amount           533461 non-null float64\n",
      "activity              533461 non-null object\n",
      "sector                533461 non-null object\n",
      "use                   533456 non-null object\n",
      "country_code          533453 non-null object\n",
      "country               533461 non-null object\n",
      "region                533461 non-null object\n",
      "currency              533461 non-null object\n",
      "partner_id            533461 non-null float64\n",
      "posted_time           533461 non-null datetime64[ns]\n",
      "disbursed_time        533461 non-null datetime64[ns]\n",
      "funded_time           499549 non-null datetime64[ns]\n",
      "term_in_months        533461 non-null float64\n",
      "lender_count          533461 non-null int64\n",
      "tags                  533461 non-null object\n",
      "borrower_genders      533461 non-null object\n",
      "repayment_interval    533461 non-null object\n",
      "Loan Theme ID         533461 non-null object\n",
      "Loan Theme Type       533461 non-null object\n",
      "Partner ID            533461 non-null object\n",
      "Field Partner Name    533461 non-null object\n",
      "sector_ltbr           533461 non-null object\n",
      "forkiva               533461 non-null object\n",
      "ISO                   533461 non-null object\n",
      "number                533461 non-null float64\n",
      "amount                533461 non-null float64\n",
      "LocationName          533461 non-null object\n",
      "names                 518986 non-null object\n",
      "lat                   518987 non-null float64\n",
      "lon                   518987 non-null float64\n",
      "mpi_region            533461 non-null object\n",
      "mpi_geo               459053 non-null object\n",
      "rural_pct             500967 non-null float64\n",
      "dtypes: datetime64[ns](3), float64(9), int64(2), object(21)\n",
      "memory usage: 146.5+ MB\n"
     ]
    }
   ],
   "source": [
    "merged_data.drop('country_ltbr', axis=1, inplace=True)\n",
    "merged_data.info()"
   ]
  },
  {
   "cell_type": "markdown",
   "metadata": {},
   "source": [
    "The rest of the features contain unique data, so I will just leave them as they are.\n",
    "\n",
    "Below is the data flow for merging all of the MPI related data, which will later be merged with this main data to create one nice, clean dataset."
   ]
  },
  {
   "cell_type": "code",
   "execution_count": 35,
   "metadata": {},
   "outputs": [
    {
     "name": "stdout",
     "output_type": "stream",
     "text": [
      "<class 'pandas.core.frame.DataFrame'>\n",
      "Int64Index: 984 entries, 0 to 983\n",
      "Data columns (total 16 columns):\n",
      "LocationName                         984 non-null object\n",
      "ISO                                  984 non-null object\n",
      "country                              984 non-null object\n",
      "region                               984 non-null object\n",
      "world_region                         984 non-null object\n",
      "MPI                                  984 non-null float64\n",
      "lat                                  892 non-null float64\n",
      "lon                                  892 non-null float64\n",
      "ISO country code                     984 non-null object\n",
      "Country                              984 non-null object\n",
      "Sub-national region                  984 non-null object\n",
      "World region                         984 non-null object\n",
      "MPI National                         984 non-null float64\n",
      "MPI Regional                         984 non-null float64\n",
      "Headcount Ratio Regional             984 non-null float64\n",
      "Intensity of deprivation Regional    983 non-null float64\n",
      "dtypes: float64(7), object(9)\n",
      "memory usage: 130.7+ KB\n"
     ]
    }
   ],
   "source": [
    "mpi_info = kiva_mpi_region_locations.merge(\n",
    "    MPI_subnational,\n",
    "    how='outer',\n",
    "    left_on=['country', 'region', 'world_region'],\n",
    "    right_on=['Country', 'Sub-national region', 'World region'],\n",
    "    suffixes=('', '_ms')\n",
    ")\n",
    "mpi_info.info()"
   ]
  },
  {
   "cell_type": "markdown",
   "metadata": {},
   "source": [
    "Remove merged on features `Country`, `Sub-national region`, and `World region`"
   ]
  },
  {
   "cell_type": "code",
   "execution_count": 36,
   "metadata": {},
   "outputs": [
    {
     "name": "stdout",
     "output_type": "stream",
     "text": [
      "<class 'pandas.core.frame.DataFrame'>\n",
      "Int64Index: 984 entries, 0 to 983\n",
      "Data columns (total 13 columns):\n",
      "LocationName                         984 non-null object\n",
      "ISO                                  984 non-null object\n",
      "country                              984 non-null object\n",
      "region                               984 non-null object\n",
      "world_region                         984 non-null object\n",
      "MPI                                  984 non-null float64\n",
      "lat                                  892 non-null float64\n",
      "lon                                  892 non-null float64\n",
      "ISO country code                     984 non-null object\n",
      "MPI National                         984 non-null float64\n",
      "MPI Regional                         984 non-null float64\n",
      "Headcount Ratio Regional             984 non-null float64\n",
      "Intensity of deprivation Regional    983 non-null float64\n",
      "dtypes: float64(7), object(6)\n",
      "memory usage: 107.6+ KB\n"
     ]
    }
   ],
   "source": [
    "mpi_info.drop(['Country', 'Sub-national region', 'World region'], axis=1, inplace=True)\n",
    "mpi_info.info()"
   ]
  },
  {
   "cell_type": "code",
   "execution_count": 37,
   "metadata": {},
   "outputs": [
    {
     "data": {
      "text/plain": [
       "0"
      ]
     },
     "execution_count": 37,
     "metadata": {},
     "output_type": "execute_result"
    }
   ],
   "source": [
    "(mpi_info['ISO'] != mpi_info['ISO country code']).sum()"
   ]
  },
  {
   "cell_type": "markdown",
   "metadata": {},
   "source": [
    "`ISO` and `ISO country code` are identical, so one can be removed"
   ]
  },
  {
   "cell_type": "code",
   "execution_count": 38,
   "metadata": {},
   "outputs": [
    {
     "name": "stdout",
     "output_type": "stream",
     "text": [
      "<class 'pandas.core.frame.DataFrame'>\n",
      "Int64Index: 984 entries, 0 to 983\n",
      "Data columns (total 12 columns):\n",
      "LocationName                         984 non-null object\n",
      "ISO                                  984 non-null object\n",
      "country                              984 non-null object\n",
      "region                               984 non-null object\n",
      "world_region                         984 non-null object\n",
      "MPI                                  984 non-null float64\n",
      "lat                                  892 non-null float64\n",
      "lon                                  892 non-null float64\n",
      "MPI National                         984 non-null float64\n",
      "MPI Regional                         984 non-null float64\n",
      "Headcount Ratio Regional             984 non-null float64\n",
      "Intensity of deprivation Regional    983 non-null float64\n",
      "dtypes: float64(7), object(5)\n",
      "memory usage: 99.9+ KB\n"
     ]
    }
   ],
   "source": [
    "mpi_info.drop('ISO country code', axis=1, inplace=True)\n",
    "mpi_info.info()"
   ]
  },
  {
   "cell_type": "code",
   "execution_count": 39,
   "metadata": {},
   "outputs": [
    {
     "data": {
      "text/plain": [
       "0"
      ]
     },
     "execution_count": 39,
     "metadata": {},
     "output_type": "execute_result"
    }
   ],
   "source": [
    "(mpi_info['MPI'] != mpi_info['MPI Regional']).sum()"
   ]
  },
  {
   "cell_type": "markdown",
   "metadata": {},
   "source": [
    "`MPI` and `MPI Regional` are identical, so one can be removed"
   ]
  },
  {
   "cell_type": "code",
   "execution_count": 40,
   "metadata": {},
   "outputs": [
    {
     "name": "stdout",
     "output_type": "stream",
     "text": [
      "<class 'pandas.core.frame.DataFrame'>\n",
      "Int64Index: 984 entries, 0 to 983\n",
      "Data columns (total 11 columns):\n",
      "LocationName                         984 non-null object\n",
      "ISO                                  984 non-null object\n",
      "country                              984 non-null object\n",
      "region                               984 non-null object\n",
      "world_region                         984 non-null object\n",
      "lat                                  892 non-null float64\n",
      "lon                                  892 non-null float64\n",
      "MPI National                         984 non-null float64\n",
      "MPI Regional                         984 non-null float64\n",
      "Headcount Ratio Regional             984 non-null float64\n",
      "Intensity of deprivation Regional    983 non-null float64\n",
      "dtypes: float64(6), object(5)\n",
      "memory usage: 92.2+ KB\n"
     ]
    }
   ],
   "source": [
    "mpi_info.drop('MPI', axis=1, inplace=True)\n",
    "mpi_info.info()"
   ]
  },
  {
   "cell_type": "code",
   "execution_count": 41,
   "metadata": {},
   "outputs": [
    {
     "name": "stdout",
     "output_type": "stream",
     "text": [
      "<class 'pandas.core.frame.DataFrame'>\n",
      "Int64Index: 984 entries, 0 to 983\n",
      "Data columns (total 18 columns):\n",
      "LocationName                         984 non-null object\n",
      "ISO                                  984 non-null object\n",
      "country                              984 non-null object\n",
      "region                               984 non-null object\n",
      "world_region                         984 non-null object\n",
      "lat                                  892 non-null float64\n",
      "lon                                  892 non-null float64\n",
      "MPI National                         984 non-null float64\n",
      "MPI Regional                         984 non-null float64\n",
      "Headcount Ratio Regional             984 non-null float64\n",
      "Intensity of deprivation Regional    983 non-null float64\n",
      "Country                              984 non-null object\n",
      "MPI Urban                            984 non-null float64\n",
      "Headcount Ratio Urban                984 non-null float64\n",
      "Intensity of Deprivation Urban       984 non-null float64\n",
      "MPI Rural                            984 non-null float64\n",
      "Headcount Ratio Rural                984 non-null float64\n",
      "Intensity of Deprivation Rural       984 non-null float64\n",
      "dtypes: float64(12), object(6)\n",
      "memory usage: 146.1+ KB\n"
     ]
    }
   ],
   "source": [
    "mpi_info = mpi_info.merge(\n",
    "    MPI_national,\n",
    "    how='left',\n",
    "    left_on=['country', 'ISO'],\n",
    "    right_on=['Country', 'ISO'],\n",
    "    suffixes=('', '_mn')\n",
    ")\n",
    "mpi_info.info()"
   ]
  },
  {
   "cell_type": "markdown",
   "metadata": {},
   "source": [
    "Again, drop the columns that were merged on from the second dataset (not `ISO` since it was identical and there is still only 1 column with that value)"
   ]
  },
  {
   "cell_type": "code",
   "execution_count": 42,
   "metadata": {},
   "outputs": [],
   "source": [
    "mpi_info.drop(['Country'], axis=1, inplace=True)"
   ]
  },
  {
   "cell_type": "code",
   "execution_count": 43,
   "metadata": {},
   "outputs": [
    {
     "data": {
      "text/html": [
       "<div>\n",
       "<style scoped>\n",
       "    .dataframe tbody tr th:only-of-type {\n",
       "        vertical-align: middle;\n",
       "    }\n",
       "\n",
       "    .dataframe tbody tr th {\n",
       "        vertical-align: top;\n",
       "    }\n",
       "\n",
       "    .dataframe thead th {\n",
       "        text-align: right;\n",
       "    }\n",
       "</style>\n",
       "<table border=\"1\" class=\"dataframe\">\n",
       "  <thead>\n",
       "    <tr style=\"text-align: right;\">\n",
       "      <th></th>\n",
       "      <th>MPI National</th>\n",
       "      <th>MPI Regional</th>\n",
       "      <th>MPI Urban</th>\n",
       "      <th>MPI Rural</th>\n",
       "    </tr>\n",
       "  </thead>\n",
       "  <tbody>\n",
       "    <tr>\n",
       "      <th>843</th>\n",
       "      <td>0.024</td>\n",
       "      <td>0.172</td>\n",
       "      <td>0.008</td>\n",
       "      <td>0.063</td>\n",
       "    </tr>\n",
       "    <tr>\n",
       "      <th>166</th>\n",
       "      <td>0.248</td>\n",
       "      <td>0.274</td>\n",
       "      <td>0.091</td>\n",
       "      <td>0.393</td>\n",
       "    </tr>\n",
       "    <tr>\n",
       "      <th>946</th>\n",
       "      <td>0.236</td>\n",
       "      <td>0.191</td>\n",
       "      <td>0.080</td>\n",
       "      <td>0.304</td>\n",
       "    </tr>\n",
       "    <tr>\n",
       "      <th>46</th>\n",
       "      <td>0.307</td>\n",
       "      <td>0.083</td>\n",
       "      <td>0.192</td>\n",
       "      <td>0.386</td>\n",
       "    </tr>\n",
       "    <tr>\n",
       "      <th>396</th>\n",
       "      <td>0.066</td>\n",
       "      <td>0.058</td>\n",
       "      <td>0.039</td>\n",
       "      <td>0.093</td>\n",
       "    </tr>\n",
       "  </tbody>\n",
       "</table>\n",
       "</div>"
      ],
      "text/plain": [
       "     MPI National  MPI Regional  MPI Urban  MPI Rural\n",
       "843         0.024         0.172      0.008      0.063\n",
       "166         0.248         0.274      0.091      0.393\n",
       "946         0.236         0.191      0.080      0.304\n",
       "46          0.307         0.083      0.192      0.386\n",
       "396         0.066         0.058      0.039      0.093"
      ]
     },
     "execution_count": 43,
     "metadata": {},
     "output_type": "execute_result"
    }
   ],
   "source": [
    "mpi_info[[key for key in mpi_info.keys() if 'mpi' in key.lower()]].sample(5)"
   ]
  },
  {
   "cell_type": "markdown",
   "metadata": {},
   "source": [
    "Notice that all features with *'mpi'* in the name are different, so they are all good to stay"
   ]
  },
  {
   "cell_type": "code",
   "execution_count": 44,
   "metadata": {},
   "outputs": [
    {
     "data": {
      "text/html": [
       "<div>\n",
       "<style scoped>\n",
       "    .dataframe tbody tr th:only-of-type {\n",
       "        vertical-align: middle;\n",
       "    }\n",
       "\n",
       "    .dataframe tbody tr th {\n",
       "        vertical-align: top;\n",
       "    }\n",
       "\n",
       "    .dataframe thead th {\n",
       "        text-align: right;\n",
       "    }\n",
       "</style>\n",
       "<table border=\"1\" class=\"dataframe\">\n",
       "  <thead>\n",
       "    <tr style=\"text-align: right;\">\n",
       "      <th></th>\n",
       "      <th>Headcount Ratio Regional</th>\n",
       "      <th>Headcount Ratio Urban</th>\n",
       "      <th>Headcount Ratio Rural</th>\n",
       "    </tr>\n",
       "  </thead>\n",
       "  <tbody>\n",
       "    <tr>\n",
       "      <th>972</th>\n",
       "      <td>62.1</td>\n",
       "      <td>29.5</td>\n",
       "      <td>74.20</td>\n",
       "    </tr>\n",
       "    <tr>\n",
       "      <th>145</th>\n",
       "      <td>92.4</td>\n",
       "      <td>58.2</td>\n",
       "      <td>89.79</td>\n",
       "    </tr>\n",
       "    <tr>\n",
       "      <th>427</th>\n",
       "      <td>1.5</td>\n",
       "      <td>1.1</td>\n",
       "      <td>2.49</td>\n",
       "    </tr>\n",
       "    <tr>\n",
       "      <th>518</th>\n",
       "      <td>4.2</td>\n",
       "      <td>2.4</td>\n",
       "      <td>31.21</td>\n",
       "    </tr>\n",
       "    <tr>\n",
       "      <th>757</th>\n",
       "      <td>11.4</td>\n",
       "      <td>8.1</td>\n",
       "      <td>13.67</td>\n",
       "    </tr>\n",
       "  </tbody>\n",
       "</table>\n",
       "</div>"
      ],
      "text/plain": [
       "     Headcount Ratio Regional  Headcount Ratio Urban  Headcount Ratio Rural\n",
       "972                      62.1                   29.5                  74.20\n",
       "145                      92.4                   58.2                  89.79\n",
       "427                       1.5                    1.1                   2.49\n",
       "518                       4.2                    2.4                  31.21\n",
       "757                      11.4                    8.1                  13.67"
      ]
     },
     "execution_count": 44,
     "metadata": {},
     "output_type": "execute_result"
    }
   ],
   "source": [
    "mpi_info[[key for key in mpi_info.keys() if 'head' in key.lower()]].sample(5)"
   ]
  },
  {
   "cell_type": "markdown",
   "metadata": {},
   "source": [
    "The same goes for the features with *'head'* in the name"
   ]
  },
  {
   "cell_type": "code",
   "execution_count": 45,
   "metadata": {},
   "outputs": [
    {
     "data": {
      "text/html": [
       "<div>\n",
       "<style scoped>\n",
       "    .dataframe tbody tr th:only-of-type {\n",
       "        vertical-align: middle;\n",
       "    }\n",
       "\n",
       "    .dataframe tbody tr th {\n",
       "        vertical-align: top;\n",
       "    }\n",
       "\n",
       "    .dataframe thead th {\n",
       "        text-align: right;\n",
       "    }\n",
       "</style>\n",
       "<table border=\"1\" class=\"dataframe\">\n",
       "  <thead>\n",
       "    <tr style=\"text-align: right;\">\n",
       "      <th></th>\n",
       "      <th>Intensity of deprivation Regional</th>\n",
       "      <th>Intensity of Deprivation Urban</th>\n",
       "      <th>Intensity of Deprivation Rural</th>\n",
       "    </tr>\n",
       "  </thead>\n",
       "  <tbody>\n",
       "    <tr>\n",
       "      <th>702</th>\n",
       "      <td>47.0</td>\n",
       "      <td>40.0</td>\n",
       "      <td>45.8</td>\n",
       "    </tr>\n",
       "    <tr>\n",
       "      <th>632</th>\n",
       "      <td>50.2</td>\n",
       "      <td>43.0</td>\n",
       "      <td>46.9</td>\n",
       "    </tr>\n",
       "    <tr>\n",
       "      <th>102</th>\n",
       "      <td>45.0</td>\n",
       "      <td>38.3</td>\n",
       "      <td>45.1</td>\n",
       "    </tr>\n",
       "    <tr>\n",
       "      <th>284</th>\n",
       "      <td>51.8</td>\n",
       "      <td>42.7</td>\n",
       "      <td>47.5</td>\n",
       "    </tr>\n",
       "    <tr>\n",
       "      <th>558</th>\n",
       "      <td>49.6</td>\n",
       "      <td>41.7</td>\n",
       "      <td>44.8</td>\n",
       "    </tr>\n",
       "  </tbody>\n",
       "</table>\n",
       "</div>"
      ],
      "text/plain": [
       "     Intensity of deprivation Regional  Intensity of Deprivation Urban  \\\n",
       "702                               47.0                            40.0   \n",
       "632                               50.2                            43.0   \n",
       "102                               45.0                            38.3   \n",
       "284                               51.8                            42.7   \n",
       "558                               49.6                            41.7   \n",
       "\n",
       "     Intensity of Deprivation Rural  \n",
       "702                            45.8  \n",
       "632                            46.9  \n",
       "102                            45.1  \n",
       "284                            47.5  \n",
       "558                            44.8  "
      ]
     },
     "execution_count": 45,
     "metadata": {},
     "output_type": "execute_result"
    }
   ],
   "source": [
    "mpi_info[[key for key in mpi_info.keys() if 'intensity' in key.lower()]].sample(5)"
   ]
  },
  {
   "cell_type": "markdown",
   "metadata": {},
   "source": [
    "And the same for *'intensity'*\n",
    "\n",
    "So this is the final dataset for all MPI information, so now it's time to merge it with the main dataset. First, I want to convert the features into `snake_case` because this is python, and also what I prefer"
   ]
  },
  {
   "cell_type": "code",
   "execution_count": 46,
   "metadata": {},
   "outputs": [
    {
     "name": "stdout",
     "output_type": "stream",
     "text": [
      "<class 'pandas.core.frame.DataFrame'>\n",
      "Int64Index: 984 entries, 0 to 983\n",
      "Data columns (total 17 columns):\n",
      "LocationName                         984 non-null object\n",
      "ISO                                  984 non-null object\n",
      "country                              984 non-null object\n",
      "region                               984 non-null object\n",
      "world_region                         984 non-null object\n",
      "lat                                  892 non-null float64\n",
      "lon                                  892 non-null float64\n",
      "MPI National                         984 non-null float64\n",
      "MPI Regional                         984 non-null float64\n",
      "Headcount Ratio Regional             984 non-null float64\n",
      "Intensity of deprivation Regional    983 non-null float64\n",
      "MPI Urban                            984 non-null float64\n",
      "Headcount Ratio Urban                984 non-null float64\n",
      "Intensity of Deprivation Urban       984 non-null float64\n",
      "MPI Rural                            984 non-null float64\n",
      "Headcount Ratio Rural                984 non-null float64\n",
      "Intensity of Deprivation Rural       984 non-null float64\n",
      "dtypes: float64(12), object(5)\n",
      "memory usage: 138.4+ KB\n"
     ]
    }
   ],
   "source": [
    "mpi_info.info()"
   ]
  },
  {
   "cell_type": "code",
   "execution_count": 47,
   "metadata": {},
   "outputs": [
    {
     "name": "stdout",
     "output_type": "stream",
     "text": [
      "<class 'pandas.core.frame.DataFrame'>\n",
      "Int64Index: 984 entries, 0 to 983\n",
      "Data columns (total 17 columns):\n",
      "locationname                         984 non-null object\n",
      "iso                                  984 non-null object\n",
      "country                              984 non-null object\n",
      "region                               984 non-null object\n",
      "world_region                         984 non-null object\n",
      "lat                                  892 non-null float64\n",
      "lon                                  892 non-null float64\n",
      "mpi_national                         984 non-null float64\n",
      "mpi_regional                         984 non-null float64\n",
      "headcount_ratio_regional             984 non-null float64\n",
      "intensity_of_deprivation_regional    983 non-null float64\n",
      "mpi_urban                            984 non-null float64\n",
      "headcount_ratio_urban                984 non-null float64\n",
      "intensity_of_deprivation_urban       984 non-null float64\n",
      "mpi_rural                            984 non-null float64\n",
      "headcount_ratio_rural                984 non-null float64\n",
      "intensity_of_deprivation_rural       984 non-null float64\n",
      "dtypes: float64(12), object(5)\n",
      "memory usage: 138.4+ KB\n"
     ]
    }
   ],
   "source": [
    "snake_case = lambda colname: colname.lower().replace(' ','_')\n",
    "mpi_info.rename(snake_case, axis=1, inplace=True)\n",
    "mpi_info.info()"
   ]
  },
  {
   "cell_type": "markdown",
   "metadata": {},
   "source": [
    "I'll do the same to `merged_data` before joining the last 2 datasets"
   ]
  },
  {
   "cell_type": "code",
   "execution_count": 48,
   "metadata": {},
   "outputs": [
    {
     "name": "stdout",
     "output_type": "stream",
     "text": [
      "<class 'pandas.core.frame.DataFrame'>\n",
      "Int64Index: 533461 entries, 1 to 671149\n",
      "Data columns (total 35 columns):\n",
      "id                    533461 non-null int64\n",
      "funded_amount         533461 non-null float64\n",
      "loan_amount           533461 non-null float64\n",
      "activity              533461 non-null object\n",
      "sector                533461 non-null object\n",
      "use                   533456 non-null object\n",
      "country_code          533453 non-null object\n",
      "country               533461 non-null object\n",
      "region                533461 non-null object\n",
      "currency              533461 non-null object\n",
      "partner_id            533461 non-null float64\n",
      "posted_time           533461 non-null datetime64[ns]\n",
      "disbursed_time        533461 non-null datetime64[ns]\n",
      "funded_time           499549 non-null datetime64[ns]\n",
      "term_in_months        533461 non-null float64\n",
      "lender_count          533461 non-null int64\n",
      "tags                  533461 non-null object\n",
      "borrower_genders      533461 non-null object\n",
      "repayment_interval    533461 non-null object\n",
      "loan_theme_id         533461 non-null object\n",
      "loan_theme_type       533461 non-null object\n",
      "partner_id            533461 non-null object\n",
      "field_partner_name    533461 non-null object\n",
      "sector_ltbr           533461 non-null object\n",
      "forkiva               533461 non-null object\n",
      "iso                   533461 non-null object\n",
      "number                533461 non-null float64\n",
      "amount                533461 non-null float64\n",
      "locationname          533461 non-null object\n",
      "names                 518986 non-null object\n",
      "lat                   518987 non-null float64\n",
      "lon                   518987 non-null float64\n",
      "mpi_region            533461 non-null object\n",
      "mpi_geo               459053 non-null object\n",
      "rural_pct             500967 non-null float64\n",
      "dtypes: datetime64[ns](3), float64(9), int64(2), object(21)\n",
      "memory usage: 146.5+ MB\n"
     ]
    }
   ],
   "source": [
    "snake_case = lambda colname: colname.lower().replace(' ','_')\n",
    "merged_data.rename(snake_case, axis=1, inplace=True)\n",
    "merged_data.info()"
   ]
  },
  {
   "cell_type": "code",
   "execution_count": 49,
   "metadata": {},
   "outputs": [
    {
     "name": "stdout",
     "output_type": "stream",
     "text": [
      "<class 'pandas.core.frame.DataFrame'>\n",
      "Int64Index: 533461 entries, 0 to 533460\n",
      "Data columns (total 52 columns):\n",
      "id                                   533461 non-null int64\n",
      "funded_amount                        533461 non-null float64\n",
      "loan_amount                          533461 non-null float64\n",
      "activity                             533461 non-null object\n",
      "sector                               533461 non-null object\n",
      "use                                  533456 non-null object\n",
      "country_code                         533453 non-null object\n",
      "country                              533461 non-null object\n",
      "region                               533461 non-null object\n",
      "currency                             533461 non-null object\n",
      "partner_id                           533461 non-null float64\n",
      "posted_time                          533461 non-null datetime64[ns]\n",
      "disbursed_time                       533461 non-null datetime64[ns]\n",
      "funded_time                          499549 non-null datetime64[ns]\n",
      "term_in_months                       533461 non-null float64\n",
      "lender_count                         533461 non-null int64\n",
      "tags                                 533461 non-null object\n",
      "borrower_genders                     533461 non-null object\n",
      "repayment_interval                   533461 non-null object\n",
      "loan_theme_id                        533461 non-null object\n",
      "loan_theme_type                      533461 non-null object\n",
      "partner_id                           533461 non-null object\n",
      "field_partner_name                   533461 non-null object\n",
      "sector_ltbr                          533461 non-null object\n",
      "forkiva                              533461 non-null object\n",
      "iso                                  533461 non-null object\n",
      "number                               533461 non-null float64\n",
      "amount                               533461 non-null float64\n",
      "locationname                         533461 non-null object\n",
      "names                                518986 non-null object\n",
      "lat                                  518987 non-null float64\n",
      "lon                                  518987 non-null float64\n",
      "mpi_region                           533461 non-null object\n",
      "mpi_geo                              459053 non-null object\n",
      "rural_pct                            500967 non-null float64\n",
      "locationname_mi                      458894 non-null object\n",
      "iso_mi                               458894 non-null object\n",
      "country_mi                           458894 non-null object\n",
      "region_mi                            458894 non-null object\n",
      "world_region                         458894 non-null object\n",
      "lat_mi                               458894 non-null float64\n",
      "lon_mi                               458894 non-null float64\n",
      "mpi_national                         458894 non-null float64\n",
      "mpi_regional                         458894 non-null float64\n",
      "headcount_ratio_regional             458894 non-null float64\n",
      "intensity_of_deprivation_regional    458877 non-null float64\n",
      "mpi_urban                            458894 non-null float64\n",
      "headcount_ratio_urban                458894 non-null float64\n",
      "intensity_of_deprivation_urban       458894 non-null float64\n",
      "mpi_rural                            458894 non-null float64\n",
      "headcount_ratio_rural                458894 non-null float64\n",
      "intensity_of_deprivation_rural       458894 non-null float64\n",
      "dtypes: datetime64[ns](3), float64(21), int64(2), object(26)\n",
      "memory usage: 215.7+ MB\n"
     ]
    }
   ],
   "source": [
    "final_data = merged_data.merge(\n",
    "    mpi_info,\n",
    "    how='left',\n",
    "    left_on='mpi_region',\n",
    "    right_on='locationname',\n",
    "    suffixes=('', '_mi')\n",
    ")\n",
    "final_data.info()"
   ]
  },
  {
   "cell_type": "markdown",
   "metadata": {},
   "source": [
    "Remove `locationname_mi`, since it was merged on"
   ]
  },
  {
   "cell_type": "code",
   "execution_count": 50,
   "metadata": {},
   "outputs": [
    {
     "name": "stdout",
     "output_type": "stream",
     "text": [
      "<class 'pandas.core.frame.DataFrame'>\n",
      "Int64Index: 533461 entries, 0 to 533460\n",
      "Data columns (total 51 columns):\n",
      "id                                   533461 non-null int64\n",
      "funded_amount                        533461 non-null float64\n",
      "loan_amount                          533461 non-null float64\n",
      "activity                             533461 non-null object\n",
      "sector                               533461 non-null object\n",
      "use                                  533456 non-null object\n",
      "country_code                         533453 non-null object\n",
      "country                              533461 non-null object\n",
      "region                               533461 non-null object\n",
      "currency                             533461 non-null object\n",
      "partner_id                           533461 non-null float64\n",
      "posted_time                          533461 non-null datetime64[ns]\n",
      "disbursed_time                       533461 non-null datetime64[ns]\n",
      "funded_time                          499549 non-null datetime64[ns]\n",
      "term_in_months                       533461 non-null float64\n",
      "lender_count                         533461 non-null int64\n",
      "tags                                 533461 non-null object\n",
      "borrower_genders                     533461 non-null object\n",
      "repayment_interval                   533461 non-null object\n",
      "loan_theme_id                        533461 non-null object\n",
      "loan_theme_type                      533461 non-null object\n",
      "partner_id                           533461 non-null object\n",
      "field_partner_name                   533461 non-null object\n",
      "sector_ltbr                          533461 non-null object\n",
      "forkiva                              533461 non-null object\n",
      "iso                                  533461 non-null object\n",
      "number                               533461 non-null float64\n",
      "amount                               533461 non-null float64\n",
      "locationname                         533461 non-null object\n",
      "names                                518986 non-null object\n",
      "lat                                  518987 non-null float64\n",
      "lon                                  518987 non-null float64\n",
      "mpi_region                           533461 non-null object\n",
      "mpi_geo                              459053 non-null object\n",
      "rural_pct                            500967 non-null float64\n",
      "iso_mi                               458894 non-null object\n",
      "country_mi                           458894 non-null object\n",
      "region_mi                            458894 non-null object\n",
      "world_region                         458894 non-null object\n",
      "lat_mi                               458894 non-null float64\n",
      "lon_mi                               458894 non-null float64\n",
      "mpi_national                         458894 non-null float64\n",
      "mpi_regional                         458894 non-null float64\n",
      "headcount_ratio_regional             458894 non-null float64\n",
      "intensity_of_deprivation_regional    458877 non-null float64\n",
      "mpi_urban                            458894 non-null float64\n",
      "headcount_ratio_urban                458894 non-null float64\n",
      "intensity_of_deprivation_urban       458894 non-null float64\n",
      "mpi_rural                            458894 non-null float64\n",
      "headcount_ratio_rural                458894 non-null float64\n",
      "intensity_of_deprivation_rural       458894 non-null float64\n",
      "dtypes: datetime64[ns](3), float64(21), int64(2), object(25)\n",
      "memory usage: 211.6+ MB\n"
     ]
    }
   ],
   "source": [
    "final_data.drop('locationname_mi', axis=1, inplace=True)\n",
    "final_data.info()"
   ]
  },
  {
   "cell_type": "code",
   "execution_count": 51,
   "metadata": {},
   "outputs": [
    {
     "data": {
      "text/plain": [
       "95476"
      ]
     },
     "execution_count": 51,
     "metadata": {},
     "output_type": "execute_result"
    }
   ],
   "source": [
    "(final_data['country'] != final_data['country_mi']).sum()"
   ]
  },
  {
   "cell_type": "markdown",
   "metadata": {},
   "source": [
    "A good amount of the data has different values for these features, let's take a closer look"
   ]
  },
  {
   "cell_type": "code",
   "execution_count": 52,
   "metadata": {},
   "outputs": [
    {
     "data": {
      "text/html": [
       "<div>\n",
       "<style scoped>\n",
       "    .dataframe tbody tr th:only-of-type {\n",
       "        vertical-align: middle;\n",
       "    }\n",
       "\n",
       "    .dataframe tbody tr th {\n",
       "        vertical-align: top;\n",
       "    }\n",
       "\n",
       "    .dataframe thead th {\n",
       "        text-align: right;\n",
       "    }\n",
       "</style>\n",
       "<table border=\"1\" class=\"dataframe\">\n",
       "  <thead>\n",
       "    <tr style=\"text-align: right;\">\n",
       "      <th></th>\n",
       "      <th>id</th>\n",
       "      <th>funded_amount</th>\n",
       "      <th>loan_amount</th>\n",
       "      <th>activity</th>\n",
       "      <th>sector</th>\n",
       "      <th>use</th>\n",
       "      <th>country_code</th>\n",
       "      <th>country</th>\n",
       "      <th>region</th>\n",
       "      <th>currency</th>\n",
       "      <th>...</th>\n",
       "      <th>mpi_national</th>\n",
       "      <th>mpi_regional</th>\n",
       "      <th>headcount_ratio_regional</th>\n",
       "      <th>intensity_of_deprivation_regional</th>\n",
       "      <th>mpi_urban</th>\n",
       "      <th>headcount_ratio_urban</th>\n",
       "      <th>intensity_of_deprivation_urban</th>\n",
       "      <th>mpi_rural</th>\n",
       "      <th>headcount_ratio_rural</th>\n",
       "      <th>intensity_of_deprivation_rural</th>\n",
       "    </tr>\n",
       "  </thead>\n",
       "  <tbody>\n",
       "    <tr>\n",
       "      <th>78747</th>\n",
       "      <td>775512</td>\n",
       "      <td>875.0</td>\n",
       "      <td>875.0</td>\n",
       "      <td>Catering</td>\n",
       "      <td>Food</td>\n",
       "      <td>purchase supplies such as meat, vegetables and...</td>\n",
       "      <td>BO</td>\n",
       "      <td>Bolivia</td>\n",
       "      <td>Viacha</td>\n",
       "      <td>BOB</td>\n",
       "      <td>...</td>\n",
       "      <td>0.089</td>\n",
       "      <td>0.077</td>\n",
       "      <td>18.4</td>\n",
       "      <td>41.8</td>\n",
       "      <td>0.019</td>\n",
       "      <td>4.9</td>\n",
       "      <td>39.4</td>\n",
       "      <td>0.191</td>\n",
       "      <td>42.98</td>\n",
       "      <td>44.4</td>\n",
       "    </tr>\n",
       "    <tr>\n",
       "      <th>365292</th>\n",
       "      <td>1143805</td>\n",
       "      <td>1100.0</td>\n",
       "      <td>1100.0</td>\n",
       "      <td>Tailoring</td>\n",
       "      <td>Services</td>\n",
       "      <td>to buy a new sewing machine, thread, needles, ...</td>\n",
       "      <td>WS</td>\n",
       "      <td>Samoa</td>\n",
       "      <td>Vailele</td>\n",
       "      <td>WST</td>\n",
       "      <td>...</td>\n",
       "      <td>NaN</td>\n",
       "      <td>NaN</td>\n",
       "      <td>NaN</td>\n",
       "      <td>NaN</td>\n",
       "      <td>NaN</td>\n",
       "      <td>NaN</td>\n",
       "      <td>NaN</td>\n",
       "      <td>NaN</td>\n",
       "      <td>NaN</td>\n",
       "      <td>NaN</td>\n",
       "    </tr>\n",
       "    <tr>\n",
       "      <th>139283</th>\n",
       "      <td>864486</td>\n",
       "      <td>550.0</td>\n",
       "      <td>550.0</td>\n",
       "      <td>Livestock</td>\n",
       "      <td>Agriculture</td>\n",
       "      <td>to buy several bee families and also several p...</td>\n",
       "      <td>AM</td>\n",
       "      <td>Armenia</td>\n",
       "      <td>Tavush region</td>\n",
       "      <td>AMD</td>\n",
       "      <td>...</td>\n",
       "      <td>NaN</td>\n",
       "      <td>NaN</td>\n",
       "      <td>NaN</td>\n",
       "      <td>NaN</td>\n",
       "      <td>NaN</td>\n",
       "      <td>NaN</td>\n",
       "      <td>NaN</td>\n",
       "      <td>NaN</td>\n",
       "      <td>NaN</td>\n",
       "      <td>NaN</td>\n",
       "    </tr>\n",
       "    <tr>\n",
       "      <th>44441</th>\n",
       "      <td>723573</td>\n",
       "      <td>1075.0</td>\n",
       "      <td>1075.0</td>\n",
       "      <td>Food Production/Sales</td>\n",
       "      <td>Food</td>\n",
       "      <td>to buy cordials, a bag of sugar, a large barre...</td>\n",
       "      <td>WS</td>\n",
       "      <td>Samoa</td>\n",
       "      <td>Elise Fou</td>\n",
       "      <td>WST</td>\n",
       "      <td>...</td>\n",
       "      <td>NaN</td>\n",
       "      <td>NaN</td>\n",
       "      <td>NaN</td>\n",
       "      <td>NaN</td>\n",
       "      <td>NaN</td>\n",
       "      <td>NaN</td>\n",
       "      <td>NaN</td>\n",
       "      <td>NaN</td>\n",
       "      <td>NaN</td>\n",
       "      <td>NaN</td>\n",
       "    </tr>\n",
       "    <tr>\n",
       "      <th>516822</th>\n",
       "      <td>1315244</td>\n",
       "      <td>1300.0</td>\n",
       "      <td>1300.0</td>\n",
       "      <td>Personal Medical Expenses</td>\n",
       "      <td>Health</td>\n",
       "      <td>to pay his wife's childbirth expenses</td>\n",
       "      <td>LB</td>\n",
       "      <td>Lebanon</td>\n",
       "      <td>Tayouneh</td>\n",
       "      <td>USD</td>\n",
       "      <td>...</td>\n",
       "      <td>NaN</td>\n",
       "      <td>NaN</td>\n",
       "      <td>NaN</td>\n",
       "      <td>NaN</td>\n",
       "      <td>NaN</td>\n",
       "      <td>NaN</td>\n",
       "      <td>NaN</td>\n",
       "      <td>NaN</td>\n",
       "      <td>NaN</td>\n",
       "      <td>NaN</td>\n",
       "    </tr>\n",
       "    <tr>\n",
       "      <th>1922</th>\n",
       "      <td>656335</td>\n",
       "      <td>175.0</td>\n",
       "      <td>175.0</td>\n",
       "      <td>Farming</td>\n",
       "      <td>Agriculture</td>\n",
       "      <td>To purchase potato seeds and fertilizers for s...</td>\n",
       "      <td>IN</td>\n",
       "      <td>India</td>\n",
       "      <td>Dhupguri</td>\n",
       "      <td>INR</td>\n",
       "      <td>...</td>\n",
       "      <td>NaN</td>\n",
       "      <td>NaN</td>\n",
       "      <td>NaN</td>\n",
       "      <td>NaN</td>\n",
       "      <td>NaN</td>\n",
       "      <td>NaN</td>\n",
       "      <td>NaN</td>\n",
       "      <td>NaN</td>\n",
       "      <td>NaN</td>\n",
       "      <td>NaN</td>\n",
       "    </tr>\n",
       "    <tr>\n",
       "      <th>188653</th>\n",
       "      <td>927463</td>\n",
       "      <td>2000.0</td>\n",
       "      <td>2000.0</td>\n",
       "      <td>Grocery Store</td>\n",
       "      <td>Food</td>\n",
       "      <td>to increase her merchandise with newly request...</td>\n",
       "      <td>LB</td>\n",
       "      <td>Lebanon</td>\n",
       "      <td>Qana</td>\n",
       "      <td>USD</td>\n",
       "      <td>...</td>\n",
       "      <td>NaN</td>\n",
       "      <td>NaN</td>\n",
       "      <td>NaN</td>\n",
       "      <td>NaN</td>\n",
       "      <td>NaN</td>\n",
       "      <td>NaN</td>\n",
       "      <td>NaN</td>\n",
       "      <td>NaN</td>\n",
       "      <td>NaN</td>\n",
       "      <td>NaN</td>\n",
       "    </tr>\n",
       "    <tr>\n",
       "      <th>493161</th>\n",
       "      <td>1287743</td>\n",
       "      <td>875.0</td>\n",
       "      <td>875.0</td>\n",
       "      <td>Farming</td>\n",
       "      <td>Agriculture</td>\n",
       "      <td>to pay for soil plowing services and buy 300 k...</td>\n",
       "      <td>AM</td>\n",
       "      <td>Armenia</td>\n",
       "      <td>Spandaryan village</td>\n",
       "      <td>AMD</td>\n",
       "      <td>...</td>\n",
       "      <td>NaN</td>\n",
       "      <td>NaN</td>\n",
       "      <td>NaN</td>\n",
       "      <td>NaN</td>\n",
       "      <td>NaN</td>\n",
       "      <td>NaN</td>\n",
       "      <td>NaN</td>\n",
       "      <td>NaN</td>\n",
       "      <td>NaN</td>\n",
       "      <td>NaN</td>\n",
       "    </tr>\n",
       "    <tr>\n",
       "      <th>221180</th>\n",
       "      <td>965599</td>\n",
       "      <td>675.0</td>\n",
       "      <td>675.0</td>\n",
       "      <td>Fuel/Firewood</td>\n",
       "      <td>Retail</td>\n",
       "      <td>to buy gasoline to resell.</td>\n",
       "      <td>PH</td>\n",
       "      <td>Philippines</td>\n",
       "      <td>Plaridel-Macalibre Alto, Lopez Jaena</td>\n",
       "      <td>PHP</td>\n",
       "      <td>...</td>\n",
       "      <td>NaN</td>\n",
       "      <td>NaN</td>\n",
       "      <td>NaN</td>\n",
       "      <td>NaN</td>\n",
       "      <td>NaN</td>\n",
       "      <td>NaN</td>\n",
       "      <td>NaN</td>\n",
       "      <td>NaN</td>\n",
       "      <td>NaN</td>\n",
       "      <td>NaN</td>\n",
       "    </tr>\n",
       "    <tr>\n",
       "      <th>385908</th>\n",
       "      <td>1166585</td>\n",
       "      <td>375.0</td>\n",
       "      <td>375.0</td>\n",
       "      <td>Jewelry</td>\n",
       "      <td>Retail</td>\n",
       "      <td>to expand her women's accessories business by ...</td>\n",
       "      <td>IN</td>\n",
       "      <td>India</td>\n",
       "      <td>Surendranagar</td>\n",
       "      <td>INR</td>\n",
       "      <td>...</td>\n",
       "      <td>NaN</td>\n",
       "      <td>NaN</td>\n",
       "      <td>NaN</td>\n",
       "      <td>NaN</td>\n",
       "      <td>NaN</td>\n",
       "      <td>NaN</td>\n",
       "      <td>NaN</td>\n",
       "      <td>NaN</td>\n",
       "      <td>NaN</td>\n",
       "      <td>NaN</td>\n",
       "    </tr>\n",
       "  </tbody>\n",
       "</table>\n",
       "<p>10 rows × 51 columns</p>\n",
       "</div>"
      ],
      "text/plain": [
       "             id  funded_amount  loan_amount                   activity  \\\n",
       "78747    775512          875.0        875.0                   Catering   \n",
       "365292  1143805         1100.0       1100.0                  Tailoring   \n",
       "139283   864486          550.0        550.0                  Livestock   \n",
       "44441    723573         1075.0       1075.0      Food Production/Sales   \n",
       "516822  1315244         1300.0       1300.0  Personal Medical Expenses   \n",
       "1922     656335          175.0        175.0                    Farming   \n",
       "188653   927463         2000.0       2000.0              Grocery Store   \n",
       "493161  1287743          875.0        875.0                    Farming   \n",
       "221180   965599          675.0        675.0              Fuel/Firewood   \n",
       "385908  1166585          375.0        375.0                    Jewelry   \n",
       "\n",
       "             sector                                                use  \\\n",
       "78747          Food  purchase supplies such as meat, vegetables and...   \n",
       "365292     Services  to buy a new sewing machine, thread, needles, ...   \n",
       "139283  Agriculture  to buy several bee families and also several p...   \n",
       "44441          Food  to buy cordials, a bag of sugar, a large barre...   \n",
       "516822       Health              to pay his wife's childbirth expenses   \n",
       "1922    Agriculture  To purchase potato seeds and fertilizers for s...   \n",
       "188653         Food  to increase her merchandise with newly request...   \n",
       "493161  Agriculture  to pay for soil plowing services and buy 300 k...   \n",
       "221180       Retail                         to buy gasoline to resell.   \n",
       "385908       Retail  to expand her women's accessories business by ...   \n",
       "\n",
       "       country_code      country                                region  \\\n",
       "78747            BO      Bolivia                                Viacha   \n",
       "365292           WS        Samoa                               Vailele   \n",
       "139283           AM      Armenia                         Tavush region   \n",
       "44441            WS        Samoa                             Elise Fou   \n",
       "516822           LB      Lebanon                              Tayouneh   \n",
       "1922             IN        India                              Dhupguri   \n",
       "188653           LB      Lebanon                                  Qana   \n",
       "493161           AM      Armenia                    Spandaryan village   \n",
       "221180           PH  Philippines  Plaridel-Macalibre Alto, Lopez Jaena   \n",
       "385908           IN        India                         Surendranagar   \n",
       "\n",
       "       currency              ...                mpi_national mpi_regional  \\\n",
       "78747       BOB              ...                       0.089        0.077   \n",
       "365292      WST              ...                         NaN          NaN   \n",
       "139283      AMD              ...                         NaN          NaN   \n",
       "44441       WST              ...                         NaN          NaN   \n",
       "516822      USD              ...                         NaN          NaN   \n",
       "1922        INR              ...                         NaN          NaN   \n",
       "188653      USD              ...                         NaN          NaN   \n",
       "493161      AMD              ...                         NaN          NaN   \n",
       "221180      PHP              ...                         NaN          NaN   \n",
       "385908      INR              ...                         NaN          NaN   \n",
       "\n",
       "       headcount_ratio_regional intensity_of_deprivation_regional  mpi_urban  \\\n",
       "78747                      18.4                              41.8      0.019   \n",
       "365292                      NaN                               NaN        NaN   \n",
       "139283                      NaN                               NaN        NaN   \n",
       "44441                       NaN                               NaN        NaN   \n",
       "516822                      NaN                               NaN        NaN   \n",
       "1922                        NaN                               NaN        NaN   \n",
       "188653                      NaN                               NaN        NaN   \n",
       "493161                      NaN                               NaN        NaN   \n",
       "221180                      NaN                               NaN        NaN   \n",
       "385908                      NaN                               NaN        NaN   \n",
       "\n",
       "        headcount_ratio_urban intensity_of_deprivation_urban mpi_rural  \\\n",
       "78747                     4.9                           39.4     0.191   \n",
       "365292                    NaN                            NaN       NaN   \n",
       "139283                    NaN                            NaN       NaN   \n",
       "44441                     NaN                            NaN       NaN   \n",
       "516822                    NaN                            NaN       NaN   \n",
       "1922                      NaN                            NaN       NaN   \n",
       "188653                    NaN                            NaN       NaN   \n",
       "493161                    NaN                            NaN       NaN   \n",
       "221180                    NaN                            NaN       NaN   \n",
       "385908                    NaN                            NaN       NaN   \n",
       "\n",
       "       headcount_ratio_rural intensity_of_deprivation_rural  \n",
       "78747                  42.98                           44.4  \n",
       "365292                   NaN                            NaN  \n",
       "139283                   NaN                            NaN  \n",
       "44441                    NaN                            NaN  \n",
       "516822                   NaN                            NaN  \n",
       "1922                     NaN                            NaN  \n",
       "188653                   NaN                            NaN  \n",
       "493161                   NaN                            NaN  \n",
       "221180                   NaN                            NaN  \n",
       "385908                   NaN                            NaN  \n",
       "\n",
       "[10 rows x 51 columns]"
      ]
     },
     "execution_count": 52,
     "metadata": {},
     "output_type": "execute_result"
    }
   ],
   "source": [
    "temp = final_data[final_data['country'] != final_data['country_mi']]\n",
    "temp.sample(10)"
   ]
  },
  {
   "cell_type": "markdown",
   "metadata": {},
   "source": [
    "Since country_mi is NaN often, let's only check when that isn't true"
   ]
  },
  {
   "cell_type": "code",
   "execution_count": 53,
   "metadata": {},
   "outputs": [
    {
     "data": {
      "text/html": [
       "<div>\n",
       "<style scoped>\n",
       "    .dataframe tbody tr th:only-of-type {\n",
       "        vertical-align: middle;\n",
       "    }\n",
       "\n",
       "    .dataframe tbody tr th {\n",
       "        vertical-align: top;\n",
       "    }\n",
       "\n",
       "    .dataframe thead th {\n",
       "        text-align: right;\n",
       "    }\n",
       "</style>\n",
       "<table border=\"1\" class=\"dataframe\">\n",
       "  <thead>\n",
       "    <tr style=\"text-align: right;\">\n",
       "      <th></th>\n",
       "      <th>country</th>\n",
       "      <th>country_mi</th>\n",
       "    </tr>\n",
       "  </thead>\n",
       "  <tbody>\n",
       "    <tr>\n",
       "      <th>35</th>\n",
       "      <td>Tanzania</td>\n",
       "      <td>Tanzania, United Republic of</td>\n",
       "    </tr>\n",
       "    <tr>\n",
       "      <th>192</th>\n",
       "      <td>Bolivia</td>\n",
       "      <td>Bolivia, Plurinational State of</td>\n",
       "    </tr>\n",
       "    <tr>\n",
       "      <th>458</th>\n",
       "      <td>Vietnam</td>\n",
       "      <td>Viet Nam</td>\n",
       "    </tr>\n",
       "    <tr>\n",
       "      <th>1665</th>\n",
       "      <td>The Democratic Republic of the Congo</td>\n",
       "      <td>Congo, Democratic Republic of the</td>\n",
       "    </tr>\n",
       "    <tr>\n",
       "      <th>59866</th>\n",
       "      <td>Myanmar (Burma)</td>\n",
       "      <td>Myanmar</td>\n",
       "    </tr>\n",
       "  </tbody>\n",
       "</table>\n",
       "</div>"
      ],
      "text/plain": [
       "                                    country                         country_mi\n",
       "35                                 Tanzania       Tanzania, United Republic of\n",
       "192                                 Bolivia    Bolivia, Plurinational State of\n",
       "458                                 Vietnam                           Viet Nam\n",
       "1665   The Democratic Republic of the Congo  Congo, Democratic Republic of the\n",
       "59866                       Myanmar (Burma)                            Myanmar"
      ]
     },
     "execution_count": 53,
     "metadata": {},
     "output_type": "execute_result"
    }
   ],
   "source": [
    "temp = temp[pd.notnull(temp['country_mi'])][['country','country_mi']]\n",
    "temp.drop_duplicates()"
   ]
  },
  {
   "cell_type": "markdown",
   "metadata": {},
   "source": [
    "All of the other cases just have alternate spellings, so dropping `country_mi` should cause no issues"
   ]
  },
  {
   "cell_type": "code",
   "execution_count": 54,
   "metadata": {},
   "outputs": [
    {
     "name": "stdout",
     "output_type": "stream",
     "text": [
      "<class 'pandas.core.frame.DataFrame'>\n",
      "Int64Index: 533461 entries, 0 to 533460\n",
      "Data columns (total 50 columns):\n",
      "id                                   533461 non-null int64\n",
      "funded_amount                        533461 non-null float64\n",
      "loan_amount                          533461 non-null float64\n",
      "activity                             533461 non-null object\n",
      "sector                               533461 non-null object\n",
      "use                                  533456 non-null object\n",
      "country_code                         533453 non-null object\n",
      "country                              533461 non-null object\n",
      "region                               533461 non-null object\n",
      "currency                             533461 non-null object\n",
      "partner_id                           533461 non-null float64\n",
      "posted_time                          533461 non-null datetime64[ns]\n",
      "disbursed_time                       533461 non-null datetime64[ns]\n",
      "funded_time                          499549 non-null datetime64[ns]\n",
      "term_in_months                       533461 non-null float64\n",
      "lender_count                         533461 non-null int64\n",
      "tags                                 533461 non-null object\n",
      "borrower_genders                     533461 non-null object\n",
      "repayment_interval                   533461 non-null object\n",
      "loan_theme_id                        533461 non-null object\n",
      "loan_theme_type                      533461 non-null object\n",
      "partner_id                           533461 non-null object\n",
      "field_partner_name                   533461 non-null object\n",
      "sector_ltbr                          533461 non-null object\n",
      "forkiva                              533461 non-null object\n",
      "iso                                  533461 non-null object\n",
      "number                               533461 non-null float64\n",
      "amount                               533461 non-null float64\n",
      "locationname                         533461 non-null object\n",
      "names                                518986 non-null object\n",
      "lat                                  518987 non-null float64\n",
      "lon                                  518987 non-null float64\n",
      "mpi_region                           533461 non-null object\n",
      "mpi_geo                              459053 non-null object\n",
      "rural_pct                            500967 non-null float64\n",
      "iso_mi                               458894 non-null object\n",
      "region_mi                            458894 non-null object\n",
      "world_region                         458894 non-null object\n",
      "lat_mi                               458894 non-null float64\n",
      "lon_mi                               458894 non-null float64\n",
      "mpi_national                         458894 non-null float64\n",
      "mpi_regional                         458894 non-null float64\n",
      "headcount_ratio_regional             458894 non-null float64\n",
      "intensity_of_deprivation_regional    458877 non-null float64\n",
      "mpi_urban                            458894 non-null float64\n",
      "headcount_ratio_urban                458894 non-null float64\n",
      "intensity_of_deprivation_urban       458894 non-null float64\n",
      "mpi_rural                            458894 non-null float64\n",
      "headcount_ratio_rural                458894 non-null float64\n",
      "intensity_of_deprivation_rural       458894 non-null float64\n",
      "dtypes: datetime64[ns](3), float64(21), int64(2), object(24)\n",
      "memory usage: 207.6+ MB\n"
     ]
    }
   ],
   "source": [
    "final_data.drop('country_mi', axis=1, inplace=True)\n",
    "final_data.info()"
   ]
  },
  {
   "cell_type": "code",
   "execution_count": 55,
   "metadata": {},
   "outputs": [
    {
     "data": {
      "text/plain": [
       "533461"
      ]
     },
     "execution_count": 55,
     "metadata": {},
     "output_type": "execute_result"
    }
   ],
   "source": [
    "(final_data['mpi_region'] != final_data['region_mi']).sum()"
   ]
  },
  {
   "cell_type": "markdown",
   "metadata": {},
   "source": [
    "I have a strong feeling that `region_mi` is a substring of `mpi_region`, so let's see how often that is the case"
   ]
  },
  {
   "cell_type": "code",
   "execution_count": 56,
   "metadata": {},
   "outputs": [
    {
     "data": {
      "text/plain": [
       "0"
      ]
     },
     "execution_count": 56,
     "metadata": {},
     "output_type": "execute_result"
    }
   ],
   "source": [
    "vecin = np.vectorize(str.__contains__)\n",
    "temp = final_data[['mpi_region', 'region_mi']].dropna()\n",
    "(~vecin(temp['mpi_region'], temp['region_mi'])).sum()"
   ]
  },
  {
   "cell_type": "markdown",
   "metadata": {},
   "source": [
    "This means that `region_mi` is always in `mpi_region`, so we can remove `region_mi` because it contains less info, right? Take a look at the data however"
   ]
  },
  {
   "cell_type": "code",
   "execution_count": 57,
   "metadata": {},
   "outputs": [
    {
     "data": {
      "text/html": [
       "<div>\n",
       "<style scoped>\n",
       "    .dataframe tbody tr th:only-of-type {\n",
       "        vertical-align: middle;\n",
       "    }\n",
       "\n",
       "    .dataframe tbody tr th {\n",
       "        vertical-align: top;\n",
       "    }\n",
       "\n",
       "    .dataframe thead th {\n",
       "        text-align: right;\n",
       "    }\n",
       "</style>\n",
       "<table border=\"1\" class=\"dataframe\">\n",
       "  <thead>\n",
       "    <tr style=\"text-align: right;\">\n",
       "      <th></th>\n",
       "      <th>mpi_region</th>\n",
       "      <th>region_mi</th>\n",
       "    </tr>\n",
       "  </thead>\n",
       "  <tbody>\n",
       "    <tr>\n",
       "      <th>328046</th>\n",
       "      <td>Kampala, Uganda</td>\n",
       "      <td>Kampala</td>\n",
       "    </tr>\n",
       "    <tr>\n",
       "      <th>140988</th>\n",
       "      <td>Punjab, Pakistan</td>\n",
       "      <td>Punjab</td>\n",
       "    </tr>\n",
       "    <tr>\n",
       "      <th>381971</th>\n",
       "      <td>North Eastern, Kenya</td>\n",
       "      <td>North Eastern</td>\n",
       "    </tr>\n",
       "    <tr>\n",
       "      <th>386610</th>\n",
       "      <td>Islamabad (ICT), Pakistan</td>\n",
       "      <td>Islamabad (ICT)</td>\n",
       "    </tr>\n",
       "    <tr>\n",
       "      <th>82000</th>\n",
       "      <td>Bujumbura Mairie, Burundi</td>\n",
       "      <td>Bujumbura Mairie</td>\n",
       "    </tr>\n",
       "    <tr>\n",
       "      <th>507996</th>\n",
       "      <td>Central Visayas, Philippines</td>\n",
       "      <td>Central Visayas</td>\n",
       "    </tr>\n",
       "    <tr>\n",
       "      <th>364075</th>\n",
       "      <td>Galapagos Island, Ecuador</td>\n",
       "      <td>Galapagos Island</td>\n",
       "    </tr>\n",
       "    <tr>\n",
       "      <th>383398</th>\n",
       "      <td>Central Visayas, Philippines</td>\n",
       "      <td>Central Visayas</td>\n",
       "    </tr>\n",
       "    <tr>\n",
       "      <th>463505</th>\n",
       "      <td>Cagayan Valley, Philippines</td>\n",
       "      <td>Cagayan Valley</td>\n",
       "    </tr>\n",
       "    <tr>\n",
       "      <th>117918</th>\n",
       "      <td>Central Visayas, Philippines</td>\n",
       "      <td>Central Visayas</td>\n",
       "    </tr>\n",
       "  </tbody>\n",
       "</table>\n",
       "</div>"
      ],
      "text/plain": [
       "                          mpi_region         region_mi\n",
       "328046               Kampala, Uganda           Kampala\n",
       "140988              Punjab, Pakistan            Punjab\n",
       "381971          North Eastern, Kenya     North Eastern\n",
       "386610     Islamabad (ICT), Pakistan   Islamabad (ICT)\n",
       "82000      Bujumbura Mairie, Burundi  Bujumbura Mairie\n",
       "507996  Central Visayas, Philippines   Central Visayas\n",
       "364075     Galapagos Island, Ecuador  Galapagos Island\n",
       "383398  Central Visayas, Philippines   Central Visayas\n",
       "463505   Cagayan Valley, Philippines    Cagayan Valley\n",
       "117918  Central Visayas, Philippines   Central Visayas"
      ]
     },
     "execution_count": 57,
     "metadata": {},
     "output_type": "execute_result"
    }
   ],
   "source": [
    "temp.sample(10)"
   ]
  },
  {
   "cell_type": "markdown",
   "metadata": {},
   "source": [
    "If I add the country to this data, it should be even more clear"
   ]
  },
  {
   "cell_type": "code",
   "execution_count": 58,
   "metadata": {},
   "outputs": [
    {
     "data": {
      "text/html": [
       "<div>\n",
       "<style scoped>\n",
       "    .dataframe tbody tr th:only-of-type {\n",
       "        vertical-align: middle;\n",
       "    }\n",
       "\n",
       "    .dataframe tbody tr th {\n",
       "        vertical-align: top;\n",
       "    }\n",
       "\n",
       "    .dataframe thead th {\n",
       "        text-align: right;\n",
       "    }\n",
       "</style>\n",
       "<table border=\"1\" class=\"dataframe\">\n",
       "  <thead>\n",
       "    <tr style=\"text-align: right;\">\n",
       "      <th></th>\n",
       "      <th>mpi_region</th>\n",
       "      <th>region_mi</th>\n",
       "      <th>country</th>\n",
       "    </tr>\n",
       "  </thead>\n",
       "  <tbody>\n",
       "    <tr>\n",
       "      <th>236311</th>\n",
       "      <td>Eastern, Kenya</td>\n",
       "      <td>Eastern</td>\n",
       "      <td>Kenya</td>\n",
       "    </tr>\n",
       "    <tr>\n",
       "      <th>493399</th>\n",
       "      <td>Solola, Guatemala</td>\n",
       "      <td>Solola</td>\n",
       "      <td>Guatemala</td>\n",
       "    </tr>\n",
       "    <tr>\n",
       "      <th>191092</th>\n",
       "      <td>Sindh, Pakistan</td>\n",
       "      <td>Sindh</td>\n",
       "      <td>Pakistan</td>\n",
       "    </tr>\n",
       "    <tr>\n",
       "      <th>188184</th>\n",
       "      <td>Central, Kenya</td>\n",
       "      <td>Central</td>\n",
       "      <td>Kenya</td>\n",
       "    </tr>\n",
       "    <tr>\n",
       "      <th>244509</th>\n",
       "      <td>Central Visayas, Philippines</td>\n",
       "      <td>Central Visayas</td>\n",
       "      <td>Philippines</td>\n",
       "    </tr>\n",
       "    <tr>\n",
       "      <th>302015</th>\n",
       "      <td>Cusco, Peru</td>\n",
       "      <td>Cusco</td>\n",
       "      <td>Peru</td>\n",
       "    </tr>\n",
       "    <tr>\n",
       "      <th>315296</th>\n",
       "      <td>Eastern, Kenya</td>\n",
       "      <td>Eastern</td>\n",
       "      <td>Kenya</td>\n",
       "    </tr>\n",
       "    <tr>\n",
       "      <th>242602</th>\n",
       "      <td>Western Visayas, Philippines</td>\n",
       "      <td>Western Visayas</td>\n",
       "      <td>Philippines</td>\n",
       "    </tr>\n",
       "    <tr>\n",
       "      <th>153793</th>\n",
       "      <td>Western Visayas, Philippines</td>\n",
       "      <td>Western Visayas</td>\n",
       "      <td>Philippines</td>\n",
       "    </tr>\n",
       "    <tr>\n",
       "      <th>532882</th>\n",
       "      <td>Medellin A.M., Colombia</td>\n",
       "      <td>Medellin A.M.</td>\n",
       "      <td>Colombia</td>\n",
       "    </tr>\n",
       "  </tbody>\n",
       "</table>\n",
       "</div>"
      ],
      "text/plain": [
       "                          mpi_region        region_mi      country\n",
       "236311                Eastern, Kenya          Eastern        Kenya\n",
       "493399             Solola, Guatemala           Solola    Guatemala\n",
       "191092               Sindh, Pakistan            Sindh     Pakistan\n",
       "188184                Central, Kenya          Central        Kenya\n",
       "244509  Central Visayas, Philippines  Central Visayas  Philippines\n",
       "302015                   Cusco, Peru            Cusco         Peru\n",
       "315296                Eastern, Kenya          Eastern        Kenya\n",
       "242602  Western Visayas, Philippines  Western Visayas  Philippines\n",
       "153793  Western Visayas, Philippines  Western Visayas  Philippines\n",
       "532882       Medellin A.M., Colombia    Medellin A.M.     Colombia"
      ]
     },
     "execution_count": 58,
     "metadata": {},
     "output_type": "execute_result"
    }
   ],
   "source": [
    "temp = final_data[['mpi_region', 'region_mi', 'country']].dropna()\n",
    "temp.sample(10)"
   ]
  },
  {
   "cell_type": "markdown",
   "metadata": {},
   "source": [
    "So it is better to keep `region_mi` over `mpi_region`, however I will change the names so it makes a little more sense. Later I realized that `region_mi` had some NaNs, so instead of just renaming, if `region_mi` is NaN, it takes the value from `mpi_region`"
   ]
  },
  {
   "cell_type": "code",
   "execution_count": 59,
   "metadata": {},
   "outputs": [
    {
     "name": "stdout",
     "output_type": "stream",
     "text": [
      "<class 'pandas.core.frame.DataFrame'>\n",
      "Int64Index: 533461 entries, 0 to 533460\n",
      "Data columns (total 49 columns):\n",
      "id                                   533461 non-null int64\n",
      "funded_amount                        533461 non-null float64\n",
      "loan_amount                          533461 non-null float64\n",
      "activity                             533461 non-null object\n",
      "sector                               533461 non-null object\n",
      "use                                  533456 non-null object\n",
      "country_code                         533453 non-null object\n",
      "country                              533461 non-null object\n",
      "region                               533461 non-null object\n",
      "currency                             533461 non-null object\n",
      "partner_id                           533461 non-null float64\n",
      "posted_time                          533461 non-null datetime64[ns]\n",
      "disbursed_time                       533461 non-null datetime64[ns]\n",
      "funded_time                          499549 non-null datetime64[ns]\n",
      "term_in_months                       533461 non-null float64\n",
      "lender_count                         533461 non-null int64\n",
      "tags                                 533461 non-null object\n",
      "borrower_genders                     533461 non-null object\n",
      "repayment_interval                   533461 non-null object\n",
      "loan_theme_id                        533461 non-null object\n",
      "loan_theme_type                      533461 non-null object\n",
      "partner_id                           533461 non-null object\n",
      "field_partner_name                   533461 non-null object\n",
      "sector_ltbr                          533461 non-null object\n",
      "forkiva                              533461 non-null object\n",
      "iso                                  533461 non-null object\n",
      "number                               533461 non-null float64\n",
      "amount                               533461 non-null float64\n",
      "locationname                         533461 non-null object\n",
      "names                                518986 non-null object\n",
      "lat                                  518987 non-null float64\n",
      "lon                                  518987 non-null float64\n",
      "mpi_region                           533461 non-null object\n",
      "mpi_geo                              459053 non-null object\n",
      "rural_pct                            500967 non-null float64\n",
      "iso_mi                               458894 non-null object\n",
      "world_region                         458894 non-null object\n",
      "lat_mi                               458894 non-null float64\n",
      "lon_mi                               458894 non-null float64\n",
      "mpi_national                         458894 non-null float64\n",
      "mpi_regional                         458894 non-null float64\n",
      "headcount_ratio_regional             458894 non-null float64\n",
      "intensity_of_deprivation_regional    458877 non-null float64\n",
      "mpi_urban                            458894 non-null float64\n",
      "headcount_ratio_urban                458894 non-null float64\n",
      "intensity_of_deprivation_urban       458894 non-null float64\n",
      "mpi_rural                            458894 non-null float64\n",
      "headcount_ratio_rural                458894 non-null float64\n",
      "intensity_of_deprivation_rural       458894 non-null float64\n",
      "dtypes: datetime64[ns](3), float64(21), int64(2), object(23)\n",
      "memory usage: 203.5+ MB\n"
     ]
    }
   ],
   "source": [
    "final_data['mpi_region'] = final_data['region_mi'].fillna(final_data['mpi_region'])\n",
    "final_data.drop('region_mi', axis=1, inplace=True)\n",
    "final_data.info()"
   ]
  },
  {
   "cell_type": "code",
   "execution_count": 60,
   "metadata": {},
   "outputs": [
    {
     "data": {
      "text/html": [
       "<div>\n",
       "<style scoped>\n",
       "    .dataframe tbody tr th:only-of-type {\n",
       "        vertical-align: middle;\n",
       "    }\n",
       "\n",
       "    .dataframe tbody tr th {\n",
       "        vertical-align: top;\n",
       "    }\n",
       "\n",
       "    .dataframe thead th {\n",
       "        text-align: right;\n",
       "    }\n",
       "</style>\n",
       "<table border=\"1\" class=\"dataframe\">\n",
       "  <thead>\n",
       "    <tr style=\"text-align: right;\">\n",
       "      <th></th>\n",
       "      <th>lat_mi</th>\n",
       "      <th>lon_mi</th>\n",
       "      <th>mpi_geo</th>\n",
       "    </tr>\n",
       "  </thead>\n",
       "  <tbody>\n",
       "    <tr>\n",
       "      <th>289769</th>\n",
       "      <td>37.911356</td>\n",
       "      <td>69.097023</td>\n",
       "      <td>(37.9113562, 69.097023)</td>\n",
       "    </tr>\n",
       "    <tr>\n",
       "      <th>342014</th>\n",
       "      <td>NaN</td>\n",
       "      <td>NaN</td>\n",
       "      <td>NaN</td>\n",
       "    </tr>\n",
       "    <tr>\n",
       "      <th>272229</th>\n",
       "      <td>-13.531950</td>\n",
       "      <td>-71.967463</td>\n",
       "      <td>(-13.53195, -71.96746259999999)</td>\n",
       "    </tr>\n",
       "    <tr>\n",
       "      <th>321970</th>\n",
       "      <td>10.510464</td>\n",
       "      <td>7.416505</td>\n",
       "      <td>(10.5104642, 7.4165053)</td>\n",
       "    </tr>\n",
       "    <tr>\n",
       "      <th>448172</th>\n",
       "      <td>14.171720</td>\n",
       "      <td>103.636271</td>\n",
       "      <td>(14.1717195, 103.6362715)</td>\n",
       "    </tr>\n",
       "    <tr>\n",
       "      <th>94225</th>\n",
       "      <td>13.839446</td>\n",
       "      <td>-83.932081</td>\n",
       "      <td>(13.8394456, -83.93208059999999)</td>\n",
       "    </tr>\n",
       "    <tr>\n",
       "      <th>422239</th>\n",
       "      <td>11.004984</td>\n",
       "      <td>122.537274</td>\n",
       "      <td>(11.0049836, 122.5372741)</td>\n",
       "    </tr>\n",
       "    <tr>\n",
       "      <th>523709</th>\n",
       "      <td>8.020163</td>\n",
       "      <td>124.685651</td>\n",
       "      <td>(8.020163499999999, 124.6856509)</td>\n",
       "    </tr>\n",
       "    <tr>\n",
       "      <th>266381</th>\n",
       "      <td>-0.115003</td>\n",
       "      <td>34.851379</td>\n",
       "      <td>(-0.115003, 34.851379)</td>\n",
       "    </tr>\n",
       "    <tr>\n",
       "      <th>179400</th>\n",
       "      <td>NaN</td>\n",
       "      <td>NaN</td>\n",
       "      <td>NaN</td>\n",
       "    </tr>\n",
       "  </tbody>\n",
       "</table>\n",
       "</div>"
      ],
      "text/plain": [
       "           lat_mi      lon_mi                           mpi_geo\n",
       "289769  37.911356   69.097023           (37.9113562, 69.097023)\n",
       "342014        NaN         NaN                               NaN\n",
       "272229 -13.531950  -71.967463   (-13.53195, -71.96746259999999)\n",
       "321970  10.510464    7.416505           (10.5104642, 7.4165053)\n",
       "448172  14.171720  103.636271         (14.1717195, 103.6362715)\n",
       "94225   13.839446  -83.932081  (13.8394456, -83.93208059999999)\n",
       "422239  11.004984  122.537274         (11.0049836, 122.5372741)\n",
       "523709   8.020163  124.685651  (8.020163499999999, 124.6856509)\n",
       "266381  -0.115003   34.851379            (-0.115003, 34.851379)\n",
       "179400        NaN         NaN                               NaN"
      ]
     },
     "execution_count": 60,
     "metadata": {},
     "output_type": "execute_result"
    }
   ],
   "source": [
    "final_data[['lat_mi', 'lon_mi', 'mpi_geo']].sample(10)"
   ]
  },
  {
   "cell_type": "markdown",
   "metadata": {},
   "source": [
    "As you can see here, `lat_mi` and `lon_mi` is just the decomposed information from `mpi_geo`, so we can drop `mpi_geo`. I will also rename the other features to `mpi_region_lat` and `mpi_region_lon` to make it a little more clear"
   ]
  },
  {
   "cell_type": "code",
   "execution_count": 61,
   "metadata": {},
   "outputs": [
    {
     "name": "stdout",
     "output_type": "stream",
     "text": [
      "<class 'pandas.core.frame.DataFrame'>\n",
      "Int64Index: 533461 entries, 0 to 533460\n",
      "Data columns (total 48 columns):\n",
      "id                                   533461 non-null int64\n",
      "funded_amount                        533461 non-null float64\n",
      "loan_amount                          533461 non-null float64\n",
      "activity                             533461 non-null object\n",
      "sector                               533461 non-null object\n",
      "use                                  533456 non-null object\n",
      "country_code                         533453 non-null object\n",
      "country                              533461 non-null object\n",
      "region                               533461 non-null object\n",
      "currency                             533461 non-null object\n",
      "partner_id                           533461 non-null float64\n",
      "posted_time                          533461 non-null datetime64[ns]\n",
      "disbursed_time                       533461 non-null datetime64[ns]\n",
      "funded_time                          499549 non-null datetime64[ns]\n",
      "term_in_months                       533461 non-null float64\n",
      "lender_count                         533461 non-null int64\n",
      "tags                                 533461 non-null object\n",
      "borrower_genders                     533461 non-null object\n",
      "repayment_interval                   533461 non-null object\n",
      "loan_theme_id                        533461 non-null object\n",
      "loan_theme_type                      533461 non-null object\n",
      "partner_id                           533461 non-null object\n",
      "field_partner_name                   533461 non-null object\n",
      "sector_ltbr                          533461 non-null object\n",
      "forkiva                              533461 non-null object\n",
      "iso                                  533461 non-null object\n",
      "number                               533461 non-null float64\n",
      "amount                               533461 non-null float64\n",
      "locationname                         533461 non-null object\n",
      "names                                518986 non-null object\n",
      "lat                                  518987 non-null float64\n",
      "lon                                  518987 non-null float64\n",
      "mpi_region                           533461 non-null object\n",
      "rural_pct                            500967 non-null float64\n",
      "iso_mi                               458894 non-null object\n",
      "world_region                         458894 non-null object\n",
      "mpi_national                         458894 non-null float64\n",
      "mpi_regional                         458894 non-null float64\n",
      "headcount_ratio_regional             458894 non-null float64\n",
      "intensity_of_deprivation_regional    458877 non-null float64\n",
      "mpi_urban                            458894 non-null float64\n",
      "headcount_ratio_urban                458894 non-null float64\n",
      "intensity_of_deprivation_urban       458894 non-null float64\n",
      "mpi_rural                            458894 non-null float64\n",
      "headcount_ratio_rural                458894 non-null float64\n",
      "intensity_of_deprivation_rural       458894 non-null float64\n",
      "mpi_region_lat                       458894 non-null float64\n",
      "mpi_region_lon                       458894 non-null float64\n",
      "dtypes: datetime64[ns](3), float64(21), int64(2), object(22)\n",
      "memory usage: 199.4+ MB\n"
     ]
    }
   ],
   "source": [
    "final_data['mpi_region_lat'] = final_data['lat_mi']\n",
    "final_data['mpi_region_lon'] = final_data['lon_mi']\n",
    "final_data.drop(['mpi_geo', 'lat_mi', 'lon_mi'], axis=1, inplace=True)\n",
    "final_data.info()"
   ]
  },
  {
   "cell_type": "markdown",
   "metadata": {},
   "source": [
    "# TODO figure out what to do with data that has no MPI (just drop or try to salvage)\n",
    "\n",
    "## This entire project takes around 3-4 minutes to run, so it's pretty efficient"
   ]
  },
  {
   "cell_type": "code",
   "execution_count": null,
   "metadata": {},
   "outputs": [],
   "source": []
  }
 ],
 "metadata": {
  "kernelspec": {
   "display_name": "Python 3",
   "language": "python",
   "name": "python3"
  },
  "language_info": {
   "codemirror_mode": {
    "name": "ipython",
    "version": 3
   },
   "file_extension": ".py",
   "mimetype": "text/x-python",
   "name": "python",
   "nbconvert_exporter": "python",
   "pygments_lexer": "ipython3",
   "version": "3.6.3"
  }
 },
 "nbformat": 4,
 "nbformat_minor": 2
}
